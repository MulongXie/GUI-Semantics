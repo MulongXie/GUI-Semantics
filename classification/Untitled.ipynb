{
 "cells": [
  {
   "cell_type": "code",
   "execution_count": 12,
   "id": "10a44185",
   "metadata": {},
   "outputs": [],
   "source": [
    "import numpy as np\n",
    "import keras"
   ]
  },
  {
   "cell_type": "code",
   "execution_count": 2,
   "id": "f60532c1",
   "metadata": {},
   "outputs": [],
   "source": [
    "x_train_file = '/home/ml/Data/rico/data/training_x.npy'\n",
    "y_train_file = '/home/ml/Data/rico/data/training_y.npy'\n",
    "x_test_file = '/home/ml/Data/rico/data/validation_x.npy'\n",
    "y_test_file = '/home/ml/Data/rico/data/validation_y.npy'"
   ]
  },
  {
   "cell_type": "code",
   "execution_count": 6,
   "id": "e5cef7c8",
   "metadata": {},
   "outputs": [],
   "source": [
    "x_train = np.load(x_train_file)\n",
    "y_train = np.load(y_train_file)\n",
    "x_test = np.load(x_test_file)\n",
    "y_test = np.load(y_test_file)"
   ]
  },
  {
   "cell_type": "code",
   "execution_count": 7,
   "id": "ec6fdfa8",
   "metadata": {},
   "outputs": [
    {
     "data": {
      "text/plain": [
       "(113854, 32, 32, 1)"
      ]
     },
     "execution_count": 7,
     "metadata": {},
     "output_type": "execute_result"
    }
   ],
   "source": [
    "x_train.shape"
   ]
  },
  {
   "cell_type": "code",
   "execution_count": 8,
   "id": "b8fc4b6b",
   "metadata": {},
   "outputs": [
    {
     "data": {
      "text/plain": [
       "array([[42.],\n",
       "       [93.],\n",
       "       [16.],\n",
       "       ...,\n",
       "       [ 9.],\n",
       "       [63.],\n",
       "       [75.]])"
      ]
     },
     "execution_count": 8,
     "metadata": {},
     "output_type": "execute_result"
    }
   ],
   "source": [
    "y_train"
   ]
  },
  {
   "cell_type": "code",
   "execution_count": 9,
   "id": "485439bd",
   "metadata": {},
   "outputs": [],
   "source": [
    "num_classes = np.unique(y_train).shape[0]"
   ]
  },
  {
   "cell_type": "code",
   "execution_count": 11,
   "id": "c9593555",
   "metadata": {},
   "outputs": [
    {
     "data": {
      "text/plain": [
       "99"
      ]
     },
     "execution_count": 11,
     "metadata": {},
     "output_type": "execute_result"
    }
   ],
   "source": [
    "num_classes"
   ]
  },
  {
   "cell_type": "code",
   "execution_count": 13,
   "id": "96901956",
   "metadata": {},
   "outputs": [
    {
     "data": {
      "text/plain": [
       "'2.6.0'"
      ]
     },
     "execution_count": 13,
     "metadata": {},
     "output_type": "execute_result"
    }
   ],
   "source": [
    "keras."
   ]
  },
  {
   "cell_type": "code",
   "execution_count": null,
   "id": "f1e8ae9b",
   "metadata": {},
   "outputs": [],
   "source": []
  }
 ],
 "metadata": {
  "kernelspec": {
   "display_name": "Python 3",
   "language": "python",
   "name": "python3"
  },
  "language_info": {
   "codemirror_mode": {
    "name": "ipython",
    "version": 3
   },
   "file_extension": ".py",
   "mimetype": "text/x-python",
   "name": "python",
   "nbconvert_exporter": "python",
   "pygments_lexer": "ipython3",
   "version": "3.6.9"
  }
 },
 "nbformat": 4,
 "nbformat_minor": 5
}

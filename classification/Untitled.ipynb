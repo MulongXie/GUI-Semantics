{
 "cells": [
  {
   "cell_type": "code",
   "execution_count": 5,
   "id": "aad43c3a",
   "metadata": {},
   "outputs": [],
   "source": [
    "from cnn.CNN import CNN"
   ]
  },
  {
   "cell_type": "code",
   "execution_count": null,
   "id": "b30f83ac",
   "metadata": {},
   "outputs": [],
   "source": []
  }
 ],
 "metadata": {
  "kernelspec": {
   "display_name": "Python 3",
   "language": "python",
   "name": "python3"
  },
  "language_info": {
   "codemirror_mode": {
    "name": "ipython",
    "version": 3
   },
   "file_extension": ".py",
   "mimetype": "text/x-python",
   "name": "python",
   "nbconvert_exporter": "python",
   "pygments_lexer": "ipython3",
   "version": "3.6.9"
  }
 },
 "nbformat": 4,
 "nbformat_minor": 5
}

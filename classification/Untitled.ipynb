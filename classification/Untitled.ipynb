{
 "cells": [
  {
   "cell_type": "code",
   "execution_count": 1,
   "id": "d660af2e",
   "metadata": {},
   "outputs": [],
   "source": [
    "from cnn.Data import Data\n",
    "from cnn.CNN import CNN\n",
    "import tensorflow as tf"
   ]
  },
  {
   "cell_type": "code",
   "execution_count": 2,
   "id": "321e067a",
   "metadata": {},
   "outputs": [],
   "source": [
    "data_icon = Data(cls='icon')\n",
    "data_compo = Data(cls='compo')"
   ]
  },
  {
   "cell_type": "code",
   "execution_count": 3,
   "id": "84f9bf66",
   "metadata": {},
   "outputs": [],
   "source": [
    "model_icon = CNN(data_icon)\n",
    "model_compo = CNN(data_compo)"
   ]
  },
  {
   "cell_type": "code",
   "execution_count": 4,
   "id": "470a58aa",
   "metadata": {},
   "outputs": [
    {
     "name": "stdout",
     "output_type": "stream",
     "text": [
      "Model Loaded From /home/ml/Model/Rico/icon/resnet50_unfrozen_icon.h5\n",
      "Training History Loaded From /home/ml/Model/Rico/icon/resnet50_unfrozen_icon_history.json\n",
      "Model Loaded From /home/ml/Model/Rico/component/resnet50_unfrozen_compo.h5\n"
     ]
    }
   ],
   "source": [
    "model_icon.load()\n",
    "model_compo.load()"
   ]
  },
  {
   "cell_type": "code",
   "execution_count": 5,
   "id": "42e8b06a",
   "metadata": {},
   "outputs": [
    {
     "name": "stdout",
     "output_type": "stream",
     "text": [
      "add\n",
      "add\n"
     ]
    }
   ],
   "source": [
    "model_icon.predict(['data/a1.jpg','data/a2.jpg'], show=True)"
   ]
  },
  {
   "cell_type": "code",
   "execution_count": 6,
   "id": "487ba933",
   "metadata": {},
   "outputs": [
    {
     "name": "stdout",
     "output_type": "stream",
     "text": [
      "Icon\n",
      "Icon\n"
     ]
    }
   ],
   "source": [
    "model_compo.predict(['data/a1.jpg','data/a2.jpg'], show=True)    "
   ]
  },
  {
   "cell_type": "code",
   "execution_count": 7,
   "id": "513d0981",
   "metadata": {},
   "outputs": [],
   "source": [
    "from cnn.ImgClassifier import ImgClassifier"
   ]
  },
  {
   "cell_type": "code",
   "execution_count": 8,
   "id": "62a4ac88",
   "metadata": {},
   "outputs": [],
   "source": [
    "img_cls = ImgClassifier()"
   ]
  },
  {
   "cell_type": "code",
   "execution_count": 9,
   "id": "6c745149",
   "metadata": {},
   "outputs": [
    {
     "name": "stdout",
     "output_type": "stream",
     "text": [
      " cock\n",
      " leatherback turtle leatherback leathery turtle Dermochelys coriacea\n",
      " nematode nematode worm roundworm\n"
     ]
    },
    {
     "data": {
      "text/plain": [
       "[' cock',\n",
       " ' leatherback turtle leatherback leathery turtle Dermochelys coriacea',\n",
       " ' nematode nematode worm roundworm']"
      ]
     },
     "execution_count": 9,
     "metadata": {},
     "output_type": "execute_result"
    }
   ],
   "source": [
    "img_cls.predict_images(['data/cock.jpeg', 'data/tench.jpeg', 'data/nematode.jpg'], show=True)"
   ]
  },
  {
   "cell_type": "code",
   "execution_count": null,
   "id": "31da93f8",
   "metadata": {},
   "outputs": [],
   "source": []
  }
 ],
 "metadata": {
  "kernelspec": {
   "display_name": "Python 3",
   "language": "python",
   "name": "python3"
  },
  "language_info": {
   "codemirror_mode": {
    "name": "ipython",
    "version": 3
   },
   "file_extension": ".py",
   "mimetype": "text/x-python",
   "name": "python",
   "nbconvert_exporter": "python",
   "pygments_lexer": "ipython3",
   "version": "3.6.9"
  }
 },
 "nbformat": 4,
 "nbformat_minor": 5
}

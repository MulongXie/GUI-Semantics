{
 "cells": [
  {
   "cell_type": "code",
   "execution_count": 1,
   "id": "61a5747a",
   "metadata": {},
   "outputs": [],
   "source": [
    "from cnn.Data import Data\n",
    "from glob import glob"
   ]
  },
  {
   "cell_type": "code",
   "execution_count": 2,
   "id": "4d319d13",
   "metadata": {},
   "outputs": [],
   "source": [
    "data = Data()"
   ]
  },
  {
   "cell_type": "code",
   "execution_count": 3,
   "id": "0e9afc5e",
   "metadata": {},
   "outputs": [
    {
     "name": "stdout",
     "output_type": "stream",
     "text": [
      "16170 \t /home/ml/Data/rico/component/Card\n",
      "109442 \t /home/ml/Data/rico/component/Text Button\n",
      "20087 \t /home/ml/Data/rico/component/Input\n",
      "12725 \t /home/ml/Data/rico/component/Advertisement\n",
      "534 \t /home/ml/Data/rico/component/Video\n",
      "5143 \t /home/ml/Data/rico/component/Radio Button\n",
      "930 \t /home/ml/Data/rico/component/Modal\n",
      "15271 \t /home/ml/Data/rico/component/List Item\n",
      "3776 \t /home/ml/Data/rico/component/Drawer\n",
      "2000 \t /home/ml/Data/rico/component/Switch\n",
      "207345 \t /home/ml/Data/rico/component/Image\n",
      "79 \t /home/ml/Data/rico/component/Button Bar\n",
      "171123 \t /home/ml/Data/rico/component/Icon\n",
      "3995 \t /home/ml/Data/rico/component/Checkbox\n",
      "791 \t /home/ml/Data/rico/component/Multi-Tab\n",
      "433872 \t /home/ml/Data/rico/component/Text\n",
      "6494 \t /home/ml/Data/rico/component/Background Image\n",
      "29473 \t /home/ml/Data/rico/component/Web View\n",
      "2692 \t /home/ml/Data/rico/component/Pager Indicator\n",
      "11 \t /home/ml/Data/rico/component/Bottom Navigation\n",
      "1842 \t /home/ml/Data/rico/component/Slider\n",
      "32685 \t /home/ml/Data/rico/component/Toolbar\n",
      "274 \t /home/ml/Data/rico/component/Date Picker\n",
      "401 \t /home/ml/Data/rico/component/Number Stepper\n",
      "1444 \t /home/ml/Data/rico/component/Map View\n"
     ]
    }
   ],
   "source": [
    "data.count_data_in_data_dir()"
   ]
  },
  {
   "cell_type": "code",
   "execution_count": null,
   "id": "cc929ecf",
   "metadata": {},
   "outputs": [
    {
     "name": "stdout",
     "output_type": "stream",
     "text": [
      "Total Images: 109442; \t Load image in class of Text Button [0]\n"
     ]
    },
    {
     "name": "stderr",
     "output_type": "stream",
     "text": [
      " 43%|████▎     | 47446/109442 [00:33<00:41, 1482.58it/s]"
     ]
    }
   ],
   "source": [
    "data.load_data_in_class_map()"
   ]
  },
  {
   "cell_type": "code",
   "execution_count": null,
   "id": "63c841e5",
   "metadata": {},
   "outputs": [],
   "source": []
  }
 ],
 "metadata": {
  "kernelspec": {
   "display_name": "Python 3",
   "language": "python",
   "name": "python3"
  },
  "language_info": {
   "codemirror_mode": {
    "name": "ipython",
    "version": 3
   },
   "file_extension": ".py",
   "mimetype": "text/x-python",
   "name": "python",
   "nbconvert_exporter": "python",
   "pygments_lexer": "ipython3",
   "version": "3.6.9"
  }
 },
 "nbformat": 4,
 "nbformat_minor": 5
}

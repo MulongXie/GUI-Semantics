{
 "cells": [
  {
   "cell_type": "code",
   "execution_count": 1,
   "id": "1e4fdd5d",
   "metadata": {},
   "outputs": [],
   "source": [
    "from cnn.ImgClassifier import ImgClassifier\n",
    "import cv2"
   ]
  },
  {
   "cell_type": "code",
   "execution_count": 2,
   "id": "c59c0acf",
   "metadata": {},
   "outputs": [],
   "source": [
    "img_cls = ImgClassifier()"
   ]
  },
  {
   "cell_type": "code",
   "execution_count": 3,
   "id": "402aa115",
   "metadata": {},
   "outputs": [
    {
     "name": "stdout",
     "output_type": "stream",
     "text": [
      " cock\n",
      " leatherback turtle leatherback leathery turtle Dermochelys coriacea\n",
      " nematode nematode worm roundworm\n"
     ]
    },
    {
     "data": {
      "text/plain": [
       "[' cock',\n",
       " ' leatherback turtle leatherback leathery turtle Dermochelys coriacea',\n",
       " ' nematode nematode worm roundworm']"
      ]
     },
     "execution_count": 3,
     "metadata": {},
     "output_type": "execute_result"
    }
   ],
   "source": [
    "imgs = ['data/cock.jpeg', 'data/tench.jpeg', 'data/nematode.jpg']\n",
    "img_cls.predict_images(imgs, show=True)"
   ]
  },
  {
   "cell_type": "code",
   "execution_count": null,
   "id": "25703cfe",
   "metadata": {},
   "outputs": [],
   "source": []
  },
  {
   "cell_type": "code",
   "execution_count": null,
   "id": "150fe59a",
   "metadata": {},
   "outputs": [],
   "source": []
  },
  {
   "cell_type": "code",
   "execution_count": null,
   "id": "52881b96",
   "metadata": {},
   "outputs": [],
   "source": []
  },
  {
   "cell_type": "code",
   "execution_count": 5,
   "id": "ef47b1e8",
   "metadata": {},
   "outputs": [],
   "source": [
    "from glob import glob"
   ]
  },
  {
   "cell_type": "code",
   "execution_count": 6,
   "id": "3193a453",
   "metadata": {},
   "outputs": [],
   "source": [
    "files = glob('/home/ml/Data/rico/component/Image/*')[:100]"
   ]
  },
  {
   "cell_type": "code",
   "execution_count": null,
   "id": "25c1a9c7",
   "metadata": {},
   "outputs": [
    {
     "name": "stdout",
     "output_type": "stream",
     "text": [
      " web site website internet site site\n",
      " web site website internet site site\n",
      " wall clock\n",
      " web site website internet site site\n",
      " digital watch\n",
      " web site website internet site site\n",
      " screen CRT screen\n",
      " oscilloscope scope cathode-ray oscilloscope CRO\n",
      " nipple\n",
      " sunscreen sunblock sun blocker\n",
      " sunscreen sunblock sun blocker\n",
      " ballpoint ballpoint pen ballpen Biro\n",
      " tobacco shop tobacconist shop tobacconist\n",
      " brain coral\n",
      " scoreboard\n",
      " hook claw\n",
      " space bar\n",
      " lighter light igniter ignitor\n",
      " dishwasher dish washer dishwashing machine\n",
      " wine bottle\n",
      " electric fan blower\n",
      " hair spray\n",
      " web site website internet site site\n",
      " digital clock\n",
      " sweatshirt\n"
     ]
    }
   ],
   "source": [
    "img_cls.predict_images(files, show=True)"
   ]
  },
  {
   "cell_type": "code",
   "execution_count": null,
   "id": "2997134c",
   "metadata": {},
   "outputs": [],
   "source": []
  }
 ],
 "metadata": {
  "kernelspec": {
   "display_name": "Python 3",
   "language": "python",
   "name": "python3"
  },
  "language_info": {
   "codemirror_mode": {
    "name": "ipython",
    "version": 3
   },
   "file_extension": ".py",
   "mimetype": "text/x-python",
   "name": "python",
   "nbconvert_exporter": "python",
   "pygments_lexer": "ipython3",
   "version": "3.6.9"
  }
 },
 "nbformat": 4,
 "nbformat_minor": 5
}

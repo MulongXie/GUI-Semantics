{
 "cells": [
  {
   "cell_type": "code",
   "execution_count": 1,
   "id": "b9ae5cbe",
   "metadata": {},
   "outputs": [],
   "source": [
    "from cnn.Data import Data\n",
    "from cnn.CNN import CNN"
   ]
  },
  {
   "cell_type": "code",
   "execution_count": 2,
   "id": "98cc1efd",
   "metadata": {},
   "outputs": [],
   "source": [
    "data = Data()"
   ]
  },
  {
   "cell_type": "code",
   "execution_count": 3,
   "id": "026a913d",
   "metadata": {},
   "outputs": [
    {
     "name": "stdout",
     "output_type": "stream",
     "text": [
      "Total Images: 109442; \t Load image in class of Text Button [0]\n"
     ]
    },
    {
     "name": "stderr",
     "output_type": "stream",
     "text": [
      "100%|██████████| 109442/109442 [01:21<00:00, 1343.89it/s]\n"
     ]
    },
    {
     "name": "stdout",
     "output_type": "stream",
     "text": [
      "Total Images: 20087; \t Load image in class of Input [1]\n"
     ]
    },
    {
     "name": "stderr",
     "output_type": "stream",
     "text": [
      "100%|██████████| 20087/20087 [00:16<00:00, 1211.58it/s]\n"
     ]
    },
    {
     "name": "stdout",
     "output_type": "stream",
     "text": [
      "Total Images: 2000; \t Load image in class of Switch [2]\n"
     ]
    },
    {
     "name": "stderr",
     "output_type": "stream",
     "text": [
      "100%|██████████| 2000/2000 [00:07<00:00, 283.42it/s]\n"
     ]
    },
    {
     "name": "stdout",
     "output_type": "stream",
     "text": [
      "Total Images: 207345; \t Load image in class of Image [3]\n"
     ]
    },
    {
     "name": "stderr",
     "output_type": "stream",
     "text": [
      "100%|██████████| 207345/207345 [03:44<00:00, 923.61it/s] \n"
     ]
    },
    {
     "name": "stdout",
     "output_type": "stream",
     "text": [
      "Total Images: 171123; \t Load image in class of Icon [4]\n"
     ]
    },
    {
     "name": "stderr",
     "output_type": "stream",
     "text": [
      "100%|██████████| 171123/171123 [00:48<00:00, 3495.44it/s]\n"
     ]
    },
    {
     "name": "stdout",
     "output_type": "stream",
     "text": [
      "Total Images: 3995; \t Load image in class of Checkbox [5]\n"
     ]
    },
    {
     "name": "stderr",
     "output_type": "stream",
     "text": [
      "100%|██████████| 3995/3995 [00:01<00:00, 3863.67it/s]\n"
     ]
    }
   ],
   "source": [
    "data.load_data_in_class_map()"
   ]
  },
  {
   "cell_type": "code",
   "execution_count": 4,
   "id": "5660de63",
   "metadata": {},
   "outputs": [
    {
     "name": "stdout",
     "output_type": "stream",
     "text": [
      "X_train:411193, Y_train:411193\n",
      "X_test:102799, Y_test:102799\n"
     ]
    }
   ],
   "source": [
    "data.generate_training_data()"
   ]
  },
  {
   "cell_type": "code",
   "execution_count": null,
   "id": "db33caa2",
   "metadata": {},
   "outputs": [],
   "source": []
  },
  {
   "cell_type": "code",
   "execution_count": 7,
   "id": "609ff008",
   "metadata": {},
   "outputs": [],
   "source": [
    "cnn = CNN(data)"
   ]
  },
  {
   "cell_type": "code",
   "execution_count": 8,
   "id": "7706fd4a",
   "metadata": {},
   "outputs": [
    {
     "name": "stdout",
     "output_type": "stream",
     "text": [
      "Model Loaded From /home/ml/Model/Rico/component/resnet50_unfrozen.h5\n",
      "Epoch 1/50\n",
      "6425/6425 [==============================] - 244s 37ms/step - loss: 0.2330 - accuracy: 0.9170 - val_loss: 0.7233 - val_accuracy: 0.8562\n",
      "Epoch 2/50\n",
      "6425/6425 [==============================] - 236s 37ms/step - loss: 0.2315 - accuracy: 0.9169 - val_loss: 0.7279 - val_accuracy: 0.8559\n",
      "Epoch 3/50\n",
      "6425/6425 [==============================] - 239s 37ms/step - loss: 0.2340 - accuracy: 0.9166 - val_loss: 0.7056 - val_accuracy: 0.8558\n",
      "Epoch 4/50\n",
      "6425/6425 [==============================] - 244s 38ms/step - loss: 0.2311 - accuracy: 0.9171 - val_loss: 0.7290 - val_accuracy: 0.8553\n",
      "Epoch 5/50\n",
      "6425/6425 [==============================] - 243s 38ms/step - loss: 0.2306 - accuracy: 0.9179 - val_loss: 0.7325 - val_accuracy: 0.8556\n",
      "Epoch 6/50\n",
      "6425/6425 [==============================] - 244s 38ms/step - loss: 0.2316 - accuracy: 0.9181 - val_loss: 0.7430 - val_accuracy: 0.8552\n",
      "Epoch 7/50\n",
      "6425/6425 [==============================] - 244s 38ms/step - loss: 0.2297 - accuracy: 0.9185 - val_loss: 0.7378 - val_accuracy: 0.8557\n",
      "Epoch 8/50\n",
      "6425/6425 [==============================] - 244s 38ms/step - loss: 0.2288 - accuracy: 0.9188 - val_loss: 0.7434 - val_accuracy: 0.8553\n",
      "Epoch 9/50\n",
      "6425/6425 [==============================] - 240s 37ms/step - loss: 0.2289 - accuracy: 0.9183 - val_loss: 0.7394 - val_accuracy: 0.8552\n",
      "Epoch 10/50\n",
      "6425/6425 [==============================] - 244s 38ms/step - loss: 0.2262 - accuracy: 0.9193 - val_loss: 0.7240 - val_accuracy: 0.8553\n",
      "Epoch 11/50\n",
      "6425/6425 [==============================] - 242s 38ms/step - loss: 0.2263 - accuracy: 0.9196 - val_loss: 0.7533 - val_accuracy: 0.8560\n",
      "Epoch 12/50\n",
      "6425/6425 [==============================] - 237s 37ms/step - loss: 0.2269 - accuracy: 0.9195 - val_loss: 0.7455 - val_accuracy: 0.8559\n",
      "Epoch 13/50\n",
      "6425/6425 [==============================] - 240s 37ms/step - loss: 0.2279 - accuracy: 0.9197 - val_loss: 0.7424 - val_accuracy: 0.8564\n",
      "Epoch 14/50\n",
      "6425/6425 [==============================] - 238s 37ms/step - loss: 0.2273 - accuracy: 0.9199 - val_loss: 0.7469 - val_accuracy: 0.8557\n",
      "Epoch 15/50\n",
      "6425/6425 [==============================] - 243s 38ms/step - loss: 0.2223 - accuracy: 0.9204 - val_loss: 0.7503 - val_accuracy: 0.8561\n",
      "Epoch 16/50\n",
      "6425/6425 [==============================] - 243s 38ms/step - loss: 0.2241 - accuracy: 0.9208 - val_loss: 0.7574 - val_accuracy: 0.8561\n",
      "Epoch 17/50\n",
      "6425/6425 [==============================] - 244s 38ms/step - loss: 0.2220 - accuracy: 0.9208 - val_loss: 0.7588 - val_accuracy: 0.8566\n",
      "Epoch 18/50\n",
      "6425/6425 [==============================] - 245s 38ms/step - loss: 0.2221 - accuracy: 0.9215 - val_loss: 0.7564 - val_accuracy: 0.8561\n",
      "Epoch 19/50\n",
      "6425/6425 [==============================] - 246s 38ms/step - loss: 0.2199 - accuracy: 0.9215 - val_loss: 0.7527 - val_accuracy: 0.8558\n",
      "Epoch 20/50\n",
      "6425/6425 [==============================] - 241s 37ms/step - loss: 0.2237 - accuracy: 0.9213 - val_loss: 0.7527 - val_accuracy: 0.8558\n",
      "Epoch 21/50\n",
      "6425/6425 [==============================] - 239s 37ms/step - loss: 0.2210 - accuracy: 0.9217 - val_loss: 0.7603 - val_accuracy: 0.8569\n",
      "Epoch 22/50\n",
      "6425/6425 [==============================] - 241s 38ms/step - loss: 0.2204 - accuracy: 0.9217 - val_loss: 0.7414 - val_accuracy: 0.8558\n",
      "Epoch 23/50\n",
      "6425/6425 [==============================] - 244s 38ms/step - loss: 0.2213 - accuracy: 0.9221 - val_loss: 0.7646 - val_accuracy: 0.8562\n",
      "Epoch 24/50\n",
      "6425/6425 [==============================] - 245s 38ms/step - loss: 0.2188 - accuracy: 0.9227 - val_loss: 0.7383 - val_accuracy: 0.8555\n",
      "Epoch 25/50\n",
      "6425/6425 [==============================] - 244s 38ms/step - loss: 0.2184 - accuracy: 0.9224 - val_loss: 0.7504 - val_accuracy: 0.8564\n",
      "Epoch 26/50\n",
      "6425/6425 [==============================] - 246s 38ms/step - loss: 0.2179 - accuracy: 0.9225 - val_loss: 0.7588 - val_accuracy: 0.8562\n",
      "Epoch 27/50\n",
      "6425/6425 [==============================] - 245s 38ms/step - loss: 0.2166 - accuracy: 0.9229 - val_loss: 0.7759 - val_accuracy: 0.8564\n",
      "Epoch 28/50\n",
      "6425/6425 [==============================] - 245s 38ms/step - loss: 0.2184 - accuracy: 0.9228 - val_loss: 0.7750 - val_accuracy: 0.8557\n",
      "Epoch 29/50\n",
      "6425/6425 [==============================] - 245s 38ms/step - loss: 0.2141 - accuracy: 0.9242 - val_loss: 0.7602 - val_accuracy: 0.8553\n",
      "Epoch 30/50\n",
      "6425/6425 [==============================] - 245s 38ms/step - loss: 0.2149 - accuracy: 0.9238 - val_loss: 0.7731 - val_accuracy: 0.8563\n",
      "Epoch 31/50\n",
      "6425/6425 [==============================] - 242s 38ms/step - loss: 0.2140 - accuracy: 0.9237 - val_loss: 0.7836 - val_accuracy: 0.8560\n",
      "Epoch 32/50\n",
      "6425/6425 [==============================] - 243s 38ms/step - loss: 0.2137 - accuracy: 0.9243 - val_loss: 0.7676 - val_accuracy: 0.8563\n",
      "Epoch 33/50\n",
      "6425/6425 [==============================] - 243s 38ms/step - loss: 0.2127 - accuracy: 0.9248 - val_loss: 0.7590 - val_accuracy: 0.8559\n",
      "Epoch 34/50\n",
      "6425/6425 [==============================] - 242s 38ms/step - loss: 0.2122 - accuracy: 0.9246 - val_loss: 0.7898 - val_accuracy: 0.8556\n",
      "Epoch 35/50\n",
      "6425/6425 [==============================] - 242s 38ms/step - loss: 0.2120 - accuracy: 0.9248 - val_loss: 0.7827 - val_accuracy: 0.8561\n",
      "Epoch 36/50\n",
      "6425/6425 [==============================] - 244s 38ms/step - loss: 0.2104 - accuracy: 0.9253 - val_loss: 0.7814 - val_accuracy: 0.8562\n",
      "Epoch 37/50\n",
      "6425/6425 [==============================] - 243s 38ms/step - loss: 0.2104 - accuracy: 0.9253 - val_loss: 0.7708 - val_accuracy: 0.8569\n",
      "Epoch 38/50\n",
      "6425/6425 [==============================] - 244s 38ms/step - loss: 0.2123 - accuracy: 0.9245 - val_loss: 0.7620 - val_accuracy: 0.8554\n",
      "Epoch 39/50\n",
      "6425/6425 [==============================] - 247s 38ms/step - loss: 0.2090 - accuracy: 0.9255 - val_loss: 0.7628 - val_accuracy: 0.8568\n",
      "Epoch 40/50\n",
      "6425/6425 [==============================] - 242s 38ms/step - loss: 0.2090 - accuracy: 0.9254 - val_loss: 0.7827 - val_accuracy: 0.8560\n",
      "Epoch 41/50\n",
      "6425/6425 [==============================] - 242s 38ms/step - loss: 0.2076 - accuracy: 0.9258 - val_loss: 0.7837 - val_accuracy: 0.8563\n",
      "Epoch 42/50\n",
      "6425/6425 [==============================] - 241s 37ms/step - loss: 0.2078 - accuracy: 0.9261 - val_loss: 0.7843 - val_accuracy: 0.8563\n",
      "Epoch 43/50\n",
      "6425/6425 [==============================] - 242s 38ms/step - loss: 0.2075 - accuracy: 0.9263 - val_loss: 0.7971 - val_accuracy: 0.8561\n",
      "Epoch 44/50\n",
      "6425/6425 [==============================] - 239s 37ms/step - loss: 0.2056 - accuracy: 0.9265 - val_loss: 0.7951 - val_accuracy: 0.8565\n",
      "Epoch 45/50\n",
      "6425/6425 [==============================] - 238s 37ms/step - loss: 0.2065 - accuracy: 0.9271 - val_loss: 0.7944 - val_accuracy: 0.8567\n",
      "Epoch 46/50\n",
      "6425/6425 [==============================] - 238s 37ms/step - loss: 0.2074 - accuracy: 0.9268 - val_loss: 0.7930 - val_accuracy: 0.8569\n",
      "Epoch 47/50\n",
      "6425/6425 [==============================] - 238s 37ms/step - loss: 0.2051 - accuracy: 0.9273 - val_loss: 0.8043 - val_accuracy: 0.8571\n",
      "Epoch 48/50\n",
      "6425/6425 [==============================] - 243s 38ms/step - loss: 0.2046 - accuracy: 0.9274 - val_loss: 0.8146 - val_accuracy: 0.8558\n",
      "Epoch 49/50\n",
      "6425/6425 [==============================] - 244s 38ms/step - loss: 0.2046 - accuracy: 0.9275 - val_loss: 0.8016 - val_accuracy: 0.8560\n",
      "Epoch 50/50\n",
      "6425/6425 [==============================] - 245s 38ms/step - loss: 0.2040 - accuracy: 0.9278 - val_loss: 0.8152 - val_accuracy: 0.8557\n"
     ]
    },
    {
     "name": "stderr",
     "output_type": "stream",
     "text": [
      "/home/ml/.local/lib/python3.6/site-packages/keras/utils/generic_utils.py:497: CustomMaskWarning: Custom mask layers require a config and must override get_config. When loading, the custom mask layer must be passed to the custom_objects argument.\n",
      "  category=CustomMaskWarning)\n"
     ]
    },
    {
     "name": "stdout",
     "output_type": "stream",
     "text": [
      "Trained model is saved to /home/ml/Model/Rico/component/resnet50_unfrozen.h5\n"
     ]
    }
   ],
   "source": [
    "cnn.train(epoch_num=50, continue_with_loading=True)"
   ]
  },
  {
   "cell_type": "code",
   "execution_count": 9,
   "id": "90fde8ad",
   "metadata": {},
   "outputs": [
    {
     "data": {
      "image/png": "[encoded data removed]",
      "text/plain": [
       "<Figure size 432x288 with 1 Axes>"
      ]
     },
     "metadata": {
      "needs_background": "light"
     },
     "output_type": "display_data"
    },
    {
     "data": {
      "image/png": "[encoded data removed]",
      "text/plain": [
       "<Figure size 432x288 with 1 Axes>"
      ]
     },
     "metadata": {
      "needs_background": "light"
     },
     "output_type": "display_data"
    }
   ],
   "source": [
    "cnn.show_training_history()"
   ]
  },
  {
   "cell_type": "code",
   "execution_count": 10,
   "id": "b015669d",
   "metadata": {},
   "outputs": [
    {
     "name": "stdout",
     "output_type": "stream",
     "text": [
      "3213/3213 [==============================] - 25s 8ms/step\n",
      "[[19060   374    22  2256   186     1]\n",
      " [  503  2691    38   529    66   117]\n",
      " [   51    65   183   103     7     0]\n",
      " [ 1484   188    43 36073  3862     9]\n",
      " [  212    45     4  4495 29347     5]\n",
      " [   14    38     2    99    13   614]]\n",
      "Precision:0.856, Recall:0.856\n"
     ]
    }
   ],
   "source": [
    "cnn.evaluate(data)"
   ]
  },
  {
   "cell_type": "code",
   "execution_count": 11,
   "id": "6deba35e",
   "metadata": {},
   "outputs": [
    {
     "data": {
      "text/plain": [
       "['Text Button', 'Input', 'Switch', 'Image', 'Icon', 'Checkbox']"
      ]
     },
     "execution_count": 11,
     "metadata": {},
     "output_type": "execute_result"
    }
   ],
   "source": [
    "cnn.class_map"
   ]
  },
  {
   "cell_type": "code",
   "execution_count": null,
   "id": "c7191560",
   "metadata": {},
   "outputs": [],
   "source": []
  }
 ],
 "metadata": {
  "kernelspec": {
   "display_name": "Python 3",
   "language": "python",
   "name": "python3"
  },
  "language_info": {
   "codemirror_mode": {
    "name": "ipython",
    "version": 3
   },
   "file_extension": ".py",
   "mimetype": "text/x-python",
   "name": "python",
   "nbconvert_exporter": "python",
   "pygments_lexer": "ipython3",
   "version": "3.6.9"
  }
 },
 "nbformat": 4,
 "nbformat_minor": 5
}

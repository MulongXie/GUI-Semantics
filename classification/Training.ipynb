{
 "cells": [
  {
   "cell_type": "code",
   "execution_count": 1,
   "id": "b4da9708",
   "metadata": {},
   "outputs": [],
   "source": [
    "from cnn.Data import Data\n",
    "from cnn.CNN import CNN"
   ]
  },
  {
   "cell_type": "code",
   "execution_count": 2,
   "id": "ac73a6a9",
   "metadata": {},
   "outputs": [],
   "source": [
    "data = Data(cls='compo')\n",
    "# data = Data(cls='icon')"
   ]
  },
  {
   "cell_type": "code",
   "execution_count": 4,
   "id": "24e832f2",
   "metadata": {},
   "outputs": [
    {
     "name": "stdout",
     "output_type": "stream",
     "text": [
      "16170 \t /home/ml/Data/rico/component/Card\n",
      "109442 \t /home/ml/Data/rico/component/Text Button\n",
      "20087 \t /home/ml/Data/rico/component/Input\n",
      "12725 \t /home/ml/Data/rico/component/Advertisement\n",
      "534 \t /home/ml/Data/rico/component/Video\n",
      "5143 \t /home/ml/Data/rico/component/Radio Button\n",
      "930 \t /home/ml/Data/rico/component/Modal\n",
      "15271 \t /home/ml/Data/rico/component/List Item\n",
      "3776 \t /home/ml/Data/rico/component/Drawer\n",
      "2000 \t /home/ml/Data/rico/component/Switch\n",
      "207345 \t /home/ml/Data/rico/component/Image\n",
      "79 \t /home/ml/Data/rico/component/Button Bar\n",
      "171123 \t /home/ml/Data/rico/component/Icon\n",
      "3995 \t /home/ml/Data/rico/component/Checkbox\n",
      "791 \t /home/ml/Data/rico/component/Multi-Tab\n",
      "433872 \t /home/ml/Data/rico/component/Text\n",
      "6494 \t /home/ml/Data/rico/component/Background Image\n",
      "29473 \t /home/ml/Data/rico/component/Web View\n",
      "2692 \t /home/ml/Data/rico/component/Pager Indicator\n",
      "11 \t /home/ml/Data/rico/component/Bottom Navigation\n",
      "1842 \t /home/ml/Data/rico/component/Slider\n",
      "32685 \t /home/ml/Data/rico/component/Toolbar\n",
      "274 \t /home/ml/Data/rico/component/Date Picker\n",
      "401 \t /home/ml/Data/rico/component/Number Stepper\n",
      "1444 \t /home/ml/Data/rico/component/Map View\n"
     ]
    }
   ],
   "source": [
    "data.count_data_in_data_dir()"
   ]
  },
  {
   "cell_type": "code",
   "execution_count": 3,
   "id": "7d2a5540",
   "metadata": {},
   "outputs": [
    {
     "name": "stdout",
     "output_type": "stream",
     "text": [
      "Total Images: 109442; \t Load image in class of Text Button [0]\n"
     ]
    },
    {
     "name": "stderr",
     "output_type": "stream",
     "text": [
      "100%|██████████| 109442/109442 [01:06<00:00, 1636.89it/s]\n"
     ]
    },
    {
     "name": "stdout",
     "output_type": "stream",
     "text": [
      "Total Images: 20087; \t Load image in class of Input [1]\n"
     ]
    },
    {
     "name": "stderr",
     "output_type": "stream",
     "text": [
      "100%|██████████| 20087/20087 [00:14<00:00, 1425.69it/s]\n"
     ]
    },
    {
     "name": "stdout",
     "output_type": "stream",
     "text": [
      "Total Images: 2000; \t Load image in class of Switch [2]\n"
     ]
    },
    {
     "name": "stderr",
     "output_type": "stream",
     "text": [
      "100%|██████████| 2000/2000 [00:06<00:00, 291.46it/s]\n"
     ]
    },
    {
     "name": "stdout",
     "output_type": "stream",
     "text": [
      "Total Images: 207345; \t Load image in class of Image [3]\n"
     ]
    },
    {
     "name": "stderr",
     "output_type": "stream",
     "text": [
      "100%|██████████| 207345/207345 [03:40<00:00, 939.54it/s] \n"
     ]
    },
    {
     "name": "stdout",
     "output_type": "stream",
     "text": [
      "Total Images: 171123; \t Load image in class of Icon [4]\n"
     ]
    },
    {
     "name": "stderr",
     "output_type": "stream",
     "text": [
      "100%|██████████| 171123/171123 [00:48<00:00, 3493.68it/s]\n"
     ]
    },
    {
     "name": "stdout",
     "output_type": "stream",
     "text": [
      "Total Images: 3995; \t Load image in class of Checkbox [5]\n"
     ]
    },
    {
     "name": "stderr",
     "output_type": "stream",
     "text": [
      "100%|██████████| 3995/3995 [00:00<00:00, 4111.78it/s]\n"
     ]
    }
   ],
   "source": [
    "data.load_data_in_class_map()"
   ]
  },
  {
   "cell_type": "code",
   "execution_count": 5,
   "id": "aa958d21",
   "metadata": {},
   "outputs": [
    {
     "name": "stdout",
     "output_type": "stream",
     "text": [
      "X_train:411193, Y_train:411193\n",
      "X_test:102799, Y_test:102799\n"
     ]
    }
   ],
   "source": [
    "data.generate_training_data()"
   ]
  },
  {
   "cell_type": "code",
   "execution_count": null,
   "id": "a2f0ca38",
   "metadata": {},
   "outputs": [],
   "source": []
  },
  {
   "cell_type": "code",
   "execution_count": 6,
   "id": "ea1dcc75",
   "metadata": {},
   "outputs": [],
   "source": [
    "cnn = CNN(data)"
   ]
  },
  {
   "cell_type": "code",
   "execution_count": 7,
   "id": "c4bbea48",
   "metadata": {},
   "outputs": [
    {
     "name": "stdout",
     "output_type": "stream",
     "text": [
      "Model Loaded From /home/ml/Model/Rico/component/resnet50_unfrozen_compo.h5\n"
     ]
    }
   ],
   "source": [
    "cnn.load()"
   ]
  },
  {
   "cell_type": "code",
   "execution_count": 13,
   "id": "43e90b58",
   "metadata": {},
   "outputs": [
    {
     "name": "stdout",
     "output_type": "stream",
     "text": [
      "Model Loaded From /home/ml/Model/Rico/icon/resnet50_unfrozen.h5\n",
      "Epoch 1/100\n",
      "2233/2233 [==============================] - 84s 37ms/step - loss: 0.2902 - accuracy: 0.9308 - val_loss: 0.5287 - val_accuracy: 0.9064\n",
      "Epoch 2/100\n",
      "2233/2233 [==============================] - 79s 35ms/step - loss: 0.2888 - accuracy: 0.9310 - val_loss: 0.5264 - val_accuracy: 0.9063\n",
      "Epoch 3/100\n",
      "2233/2233 [==============================] - 79s 35ms/step - loss: 0.2864 - accuracy: 0.9315 - val_loss: 0.5309 - val_accuracy: 0.9068\n",
      "Epoch 4/100\n",
      "2233/2233 [==============================] - 79s 35ms/step - loss: 0.2822 - accuracy: 0.9333 - val_loss: 0.5281 - val_accuracy: 0.9074\n",
      "Epoch 5/100\n",
      "2233/2233 [==============================] - 79s 35ms/step - loss: 0.2819 - accuracy: 0.9330 - val_loss: 0.5286 - val_accuracy: 0.9068\n",
      "Epoch 6/100\n",
      "2233/2233 [==============================] - 80s 36ms/step - loss: 0.2781 - accuracy: 0.9336 - val_loss: 0.5275 - val_accuracy: 0.9072\n",
      "Epoch 7/100\n",
      "2233/2233 [==============================] - 79s 35ms/step - loss: 0.2787 - accuracy: 0.9337 - val_loss: 0.5276 - val_accuracy: 0.9075\n",
      "Epoch 8/100\n",
      "2233/2233 [==============================] - 79s 35ms/step - loss: 0.2762 - accuracy: 0.9342 - val_loss: 0.5283 - val_accuracy: 0.9074\n",
      "Epoch 9/100\n",
      "2233/2233 [==============================] - 79s 35ms/step - loss: 0.2737 - accuracy: 0.9348 - val_loss: 0.5300 - val_accuracy: 0.9075\n",
      "Epoch 10/100\n",
      "2233/2233 [==============================] - 79s 35ms/step - loss: 0.2680 - accuracy: 0.9363 - val_loss: 0.5312 - val_accuracy: 0.9075\n",
      "Epoch 11/100\n",
      "2233/2233 [==============================] - 81s 36ms/step - loss: 0.2687 - accuracy: 0.9359 - val_loss: 0.5284 - val_accuracy: 0.9075\n",
      "Epoch 12/100\n",
      "2233/2233 [==============================] - 78s 35ms/step - loss: 0.2652 - accuracy: 0.9362 - val_loss: 0.5300 - val_accuracy: 0.9080\n",
      "Epoch 13/100\n",
      "2233/2233 [==============================] - 77s 34ms/step - loss: 0.2647 - accuracy: 0.9368 - val_loss: 0.5321 - val_accuracy: 0.9081\n",
      "Epoch 14/100\n",
      "2233/2233 [==============================] - 77s 34ms/step - loss: 0.2628 - accuracy: 0.9377 - val_loss: 0.5319 - val_accuracy: 0.9080\n",
      "Epoch 15/100\n",
      "2233/2233 [==============================] - 76s 34ms/step - loss: 0.2584 - accuracy: 0.9379 - val_loss: 0.5292 - val_accuracy: 0.9088\n",
      "Epoch 16/100\n",
      "2233/2233 [==============================] - 75s 34ms/step - loss: 0.2547 - accuracy: 0.9385 - val_loss: 0.5304 - val_accuracy: 0.9083\n",
      "Epoch 17/100\n",
      "2233/2233 [==============================] - 75s 34ms/step - loss: 0.2530 - accuracy: 0.9395 - val_loss: 0.5366 - val_accuracy: 0.9088\n",
      "Epoch 18/100\n",
      "2233/2233 [==============================] - 75s 34ms/step - loss: 0.2530 - accuracy: 0.9392 - val_loss: 0.5313 - val_accuracy: 0.9088\n",
      "Epoch 19/100\n",
      "2233/2233 [==============================] - 75s 34ms/step - loss: 0.2498 - accuracy: 0.9398 - val_loss: 0.5323 - val_accuracy: 0.9094\n",
      "Epoch 20/100\n",
      "2233/2233 [==============================] - 75s 34ms/step - loss: 0.2505 - accuracy: 0.9403 - val_loss: 0.5318 - val_accuracy: 0.9098\n",
      "Epoch 21/100\n",
      "2233/2233 [==============================] - 78s 35ms/step - loss: 0.2481 - accuracy: 0.9399 - val_loss: 0.5361 - val_accuracy: 0.9097\n",
      "Epoch 22/100\n",
      "2233/2233 [==============================] - 76s 34ms/step - loss: 0.2432 - accuracy: 0.9414 - val_loss: 0.5341 - val_accuracy: 0.9096\n",
      "Epoch 23/100\n",
      "2233/2233 [==============================] - 76s 34ms/step - loss: 0.2437 - accuracy: 0.9409 - val_loss: 0.5333 - val_accuracy: 0.9099\n",
      "Epoch 24/100\n",
      "2233/2233 [==============================] - 77s 34ms/step - loss: 0.2426 - accuracy: 0.9412 - val_loss: 0.5362 - val_accuracy: 0.9095\n",
      "Epoch 25/100\n",
      "2233/2233 [==============================] - 77s 34ms/step - loss: 0.2377 - accuracy: 0.9422 - val_loss: 0.5378 - val_accuracy: 0.9102\n",
      "Epoch 26/100\n",
      "2233/2233 [==============================] - 77s 34ms/step - loss: 0.2373 - accuracy: 0.9421 - val_loss: 0.5347 - val_accuracy: 0.9101\n",
      "Epoch 27/100\n",
      "2233/2233 [==============================] - 77s 34ms/step - loss: 0.2341 - accuracy: 0.9426 - val_loss: 0.5397 - val_accuracy: 0.9100\n",
      "Epoch 28/100\n",
      "2233/2233 [==============================] - 77s 35ms/step - loss: 0.2336 - accuracy: 0.9430 - val_loss: 0.5345 - val_accuracy: 0.9102\n",
      "Epoch 29/100\n",
      "2233/2233 [==============================] - 77s 35ms/step - loss: 0.2309 - accuracy: 0.9443 - val_loss: 0.5368 - val_accuracy: 0.9105\n",
      "Epoch 30/100\n",
      "2233/2233 [==============================] - 76s 34ms/step - loss: 0.2309 - accuracy: 0.9441 - val_loss: 0.5378 - val_accuracy: 0.9103\n",
      "Epoch 31/100\n",
      "2233/2233 [==============================] - 76s 34ms/step - loss: 0.2289 - accuracy: 0.9445 - val_loss: 0.5400 - val_accuracy: 0.9114\n",
      "Epoch 32/100\n",
      "2233/2233 [==============================] - 76s 34ms/step - loss: 0.2262 - accuracy: 0.9452 - val_loss: 0.5375 - val_accuracy: 0.9112\n",
      "Epoch 33/100\n",
      "2233/2233 [==============================] - 76s 34ms/step - loss: 0.2229 - accuracy: 0.9461 - val_loss: 0.5429 - val_accuracy: 0.9105\n",
      "Epoch 34/100\n",
      "2233/2233 [==============================] - 76s 34ms/step - loss: 0.2228 - accuracy: 0.9456 - val_loss: 0.5420 - val_accuracy: 0.9106\n",
      "Epoch 35/100\n",
      "2233/2233 [==============================] - 76s 34ms/step - loss: 0.2196 - accuracy: 0.9465 - val_loss: 0.5404 - val_accuracy: 0.9109\n",
      "Epoch 36/100\n",
      "2233/2233 [==============================] - 78s 35ms/step - loss: 0.2192 - accuracy: 0.9465 - val_loss: 0.5370 - val_accuracy: 0.9110\n",
      "Epoch 37/100\n",
      "2233/2233 [==============================] - 77s 34ms/step - loss: 0.2206 - accuracy: 0.9465 - val_loss: 0.5380 - val_accuracy: 0.9115\n",
      "Epoch 38/100\n",
      "2233/2233 [==============================] - 77s 35ms/step - loss: 0.2179 - accuracy: 0.9472 - val_loss: 0.5404 - val_accuracy: 0.9112\n",
      "Epoch 39/100\n",
      "2233/2233 [==============================] - 76s 34ms/step - loss: 0.2147 - accuracy: 0.9480 - val_loss: 0.5406 - val_accuracy: 0.9110\n",
      "Epoch 40/100\n",
      "2233/2233 [==============================] - 77s 34ms/step - loss: 0.2111 - accuracy: 0.9486 - val_loss: 0.5412 - val_accuracy: 0.9116\n",
      "Epoch 41/100\n",
      "2233/2233 [==============================] - 76s 34ms/step - loss: 0.2110 - accuracy: 0.9483 - val_loss: 0.5410 - val_accuracy: 0.9113\n",
      "Epoch 42/100\n",
      "2233/2233 [==============================] - 76s 34ms/step - loss: 0.2067 - accuracy: 0.9498 - val_loss: 0.5419 - val_accuracy: 0.9114\n",
      "Epoch 43/100\n",
      "2233/2233 [==============================] - 77s 34ms/step - loss: 0.2065 - accuracy: 0.9501 - val_loss: 0.5432 - val_accuracy: 0.9116\n",
      "Epoch 44/100\n",
      "2233/2233 [==============================] - 77s 34ms/step - loss: 0.2063 - accuracy: 0.9496 - val_loss: 0.5461 - val_accuracy: 0.9114\n",
      "Epoch 45/100\n",
      "2233/2233 [==============================] - 75s 34ms/step - loss: 0.2030 - accuracy: 0.9500 - val_loss: 0.5472 - val_accuracy: 0.9123\n",
      "Epoch 46/100\n",
      "2233/2233 [==============================] - 75s 34ms/step - loss: 0.2059 - accuracy: 0.9492 - val_loss: 0.5448 - val_accuracy: 0.9115\n",
      "Epoch 47/100\n",
      "2233/2233 [==============================] - 77s 35ms/step - loss: 0.2019 - accuracy: 0.9509 - val_loss: 0.5462 - val_accuracy: 0.9122\n",
      "Epoch 48/100\n",
      "2233/2233 [==============================] - 76s 34ms/step - loss: 0.2002 - accuracy: 0.9512 - val_loss: 0.5490 - val_accuracy: 0.9117\n",
      "Epoch 49/100\n",
      "2233/2233 [==============================] - 78s 35ms/step - loss: 0.1966 - accuracy: 0.9515 - val_loss: 0.5481 - val_accuracy: 0.9118\n",
      "Epoch 50/100\n",
      "2233/2233 [==============================] - 77s 35ms/step - loss: 0.1965 - accuracy: 0.9516 - val_loss: 0.5514 - val_accuracy: 0.9123\n",
      "Epoch 51/100\n",
      "2233/2233 [==============================] - 76s 34ms/step - loss: 0.1948 - accuracy: 0.9528 - val_loss: 0.5511 - val_accuracy: 0.9125\n",
      "Epoch 52/100\n",
      "2233/2233 [==============================] - 77s 34ms/step - loss: 0.1927 - accuracy: 0.9533 - val_loss: 0.5479 - val_accuracy: 0.9122\n",
      "Epoch 53/100\n",
      "2233/2233 [==============================] - 76s 34ms/step - loss: 0.1951 - accuracy: 0.9523 - val_loss: 0.5501 - val_accuracy: 0.9130\n",
      "Epoch 54/100\n",
      "2233/2233 [==============================] - 76s 34ms/step - loss: 0.1901 - accuracy: 0.9530 - val_loss: 0.5554 - val_accuracy: 0.9128\n",
      "Epoch 55/100\n",
      "2233/2233 [==============================] - 76s 34ms/step - loss: 0.1914 - accuracy: 0.9531 - val_loss: 0.5528 - val_accuracy: 0.9130\n"
     ]
    },
    {
     "name": "stdout",
     "output_type": "stream",
     "text": [
      "Epoch 56/100\n",
      "2233/2233 [==============================] - 77s 35ms/step - loss: 0.1878 - accuracy: 0.9532 - val_loss: 0.5548 - val_accuracy: 0.9132\n",
      "Epoch 57/100\n",
      "2233/2233 [==============================] - 77s 35ms/step - loss: 0.1865 - accuracy: 0.9538 - val_loss: 0.5596 - val_accuracy: 0.9132\n",
      "Epoch 58/100\n",
      "2233/2233 [==============================] - 76s 34ms/step - loss: 0.1832 - accuracy: 0.9543 - val_loss: 0.5541 - val_accuracy: 0.9139\n",
      "Epoch 59/100\n",
      "2233/2233 [==============================] - 75s 34ms/step - loss: 0.1835 - accuracy: 0.9551 - val_loss: 0.5574 - val_accuracy: 0.9135\n",
      "Epoch 60/100\n",
      "2233/2233 [==============================] - 76s 34ms/step - loss: 0.1852 - accuracy: 0.9544 - val_loss: 0.5557 - val_accuracy: 0.9138\n",
      "Epoch 61/100\n",
      "2233/2233 [==============================] - 77s 34ms/step - loss: 0.1824 - accuracy: 0.9549 - val_loss: 0.5582 - val_accuracy: 0.9136\n",
      "Epoch 62/100\n",
      "2233/2233 [==============================] - 76s 34ms/step - loss: 0.1803 - accuracy: 0.9556 - val_loss: 0.5587 - val_accuracy: 0.9138\n",
      "Epoch 63/100\n",
      "2233/2233 [==============================] - 77s 35ms/step - loss: 0.1809 - accuracy: 0.9557 - val_loss: 0.5623 - val_accuracy: 0.9136\n",
      "Epoch 64/100\n",
      "2233/2233 [==============================] - 77s 34ms/step - loss: 0.1784 - accuracy: 0.9558 - val_loss: 0.5545 - val_accuracy: 0.9144\n",
      "Epoch 65/100\n",
      "2233/2233 [==============================] - 76s 34ms/step - loss: 0.1770 - accuracy: 0.9557 - val_loss: 0.5590 - val_accuracy: 0.9138\n",
      "Epoch 66/100\n",
      "2233/2233 [==============================] - 77s 35ms/step - loss: 0.1737 - accuracy: 0.9569 - val_loss: 0.5623 - val_accuracy: 0.9142\n",
      "Epoch 67/100\n",
      "2233/2233 [==============================] - 76s 34ms/step - loss: 0.1752 - accuracy: 0.9566 - val_loss: 0.5610 - val_accuracy: 0.9143\n",
      "Epoch 68/100\n",
      "2233/2233 [==============================] - 75s 34ms/step - loss: 0.1731 - accuracy: 0.9574 - val_loss: 0.5629 - val_accuracy: 0.9140\n",
      "Epoch 69/100\n",
      "2233/2233 [==============================] - 75s 34ms/step - loss: 0.1726 - accuracy: 0.9574 - val_loss: 0.5618 - val_accuracy: 0.9142\n",
      "Epoch 70/100\n",
      "2233/2233 [==============================] - 76s 34ms/step - loss: 0.1723 - accuracy: 0.9576 - val_loss: 0.5667 - val_accuracy: 0.9146\n",
      "Epoch 71/100\n",
      "2233/2233 [==============================] - 76s 34ms/step - loss: 0.1680 - accuracy: 0.9581 - val_loss: 0.5634 - val_accuracy: 0.9144\n",
      "Epoch 72/100\n",
      "2233/2233 [==============================] - 75s 34ms/step - loss: 0.1693 - accuracy: 0.9578 - val_loss: 0.5618 - val_accuracy: 0.9143\n",
      "Epoch 73/100\n",
      "2233/2233 [==============================] - 76s 34ms/step - loss: 0.1673 - accuracy: 0.9587 - val_loss: 0.5634 - val_accuracy: 0.9148\n",
      "Epoch 74/100\n",
      "2233/2233 [==============================] - 77s 34ms/step - loss: 0.1635 - accuracy: 0.9593 - val_loss: 0.5711 - val_accuracy: 0.9151\n",
      "Epoch 75/100\n",
      "2233/2233 [==============================] - 78s 35ms/step - loss: 0.1657 - accuracy: 0.9583 - val_loss: 0.5670 - val_accuracy: 0.9150\n",
      "Epoch 76/100\n",
      "2233/2233 [==============================] - 76s 34ms/step - loss: 0.1638 - accuracy: 0.9594 - val_loss: 0.5656 - val_accuracy: 0.9145\n",
      "Epoch 77/100\n",
      "2233/2233 [==============================] - 77s 34ms/step - loss: 0.1629 - accuracy: 0.9595 - val_loss: 0.5719 - val_accuracy: 0.9149\n",
      "Epoch 78/100\n",
      "2233/2233 [==============================] - 77s 34ms/step - loss: 0.1621 - accuracy: 0.9594 - val_loss: 0.5680 - val_accuracy: 0.9152\n",
      "Epoch 79/100\n",
      "2233/2233 [==============================] - 77s 34ms/step - loss: 0.1621 - accuracy: 0.9598 - val_loss: 0.5708 - val_accuracy: 0.9152\n",
      "Epoch 80/100\n",
      "2233/2233 [==============================] - 76s 34ms/step - loss: 0.1612 - accuracy: 0.9600 - val_loss: 0.5715 - val_accuracy: 0.9153\n",
      "Epoch 81/100\n",
      "2233/2233 [==============================] - 76s 34ms/step - loss: 0.1587 - accuracy: 0.9606 - val_loss: 0.5744 - val_accuracy: 0.9150\n",
      "Epoch 82/100\n",
      "2233/2233 [==============================] - 77s 35ms/step - loss: 0.1574 - accuracy: 0.9605 - val_loss: 0.5690 - val_accuracy: 0.9160\n",
      "Epoch 83/100\n",
      "2233/2233 [==============================] - 77s 34ms/step - loss: 0.1565 - accuracy: 0.9610 - val_loss: 0.5749 - val_accuracy: 0.9157\n",
      "Epoch 84/100\n",
      "2233/2233 [==============================] - 76s 34ms/step - loss: 0.1573 - accuracy: 0.9611 - val_loss: 0.5706 - val_accuracy: 0.9159\n",
      "Epoch 85/100\n",
      "2233/2233 [==============================] - 77s 34ms/step - loss: 0.1555 - accuracy: 0.9613 - val_loss: 0.5747 - val_accuracy: 0.9156\n",
      "Epoch 86/100\n",
      "2233/2233 [==============================] - 76s 34ms/step - loss: 0.1539 - accuracy: 0.9615 - val_loss: 0.5683 - val_accuracy: 0.9153\n",
      "Epoch 87/100\n",
      "2233/2233 [==============================] - 75s 34ms/step - loss: 0.1527 - accuracy: 0.9625 - val_loss: 0.5729 - val_accuracy: 0.9157\n",
      "Epoch 88/100\n",
      "2233/2233 [==============================] - 76s 34ms/step - loss: 0.1505 - accuracy: 0.9625 - val_loss: 0.5741 - val_accuracy: 0.9157\n",
      "Epoch 89/100\n",
      "2233/2233 [==============================] - 75s 34ms/step - loss: 0.1498 - accuracy: 0.9627 - val_loss: 0.5751 - val_accuracy: 0.9156\n",
      "Epoch 90/100\n",
      "2233/2233 [==============================] - 75s 34ms/step - loss: 0.1527 - accuracy: 0.9622 - val_loss: 0.5774 - val_accuracy: 0.9152\n",
      "Epoch 91/100\n",
      "2233/2233 [==============================] - 75s 34ms/step - loss: 0.1473 - accuracy: 0.9634 - val_loss: 0.5856 - val_accuracy: 0.9154\n",
      "Epoch 92/100\n",
      "2233/2233 [==============================] - 75s 34ms/step - loss: 0.1487 - accuracy: 0.9628 - val_loss: 0.5838 - val_accuracy: 0.9159\n",
      "Epoch 93/100\n",
      "2233/2233 [==============================] - 76s 34ms/step - loss: 0.1495 - accuracy: 0.9625 - val_loss: 0.5782 - val_accuracy: 0.9158\n",
      "Epoch 94/100\n",
      "2233/2233 [==============================] - 77s 34ms/step - loss: 0.1467 - accuracy: 0.9637 - val_loss: 0.5855 - val_accuracy: 0.9159\n",
      "Epoch 95/100\n",
      "2233/2233 [==============================] - 76s 34ms/step - loss: 0.1449 - accuracy: 0.9635 - val_loss: 0.5848 - val_accuracy: 0.9158\n",
      "Epoch 96/100\n",
      "2233/2233 [==============================] - 77s 34ms/step - loss: 0.1455 - accuracy: 0.9638 - val_loss: 0.5781 - val_accuracy: 0.9162\n",
      "Epoch 97/100\n",
      "2233/2233 [==============================] - 78s 35ms/step - loss: 0.1421 - accuracy: 0.9637 - val_loss: 0.5809 - val_accuracy: 0.9163\n",
      "Epoch 98/100\n",
      "2233/2233 [==============================] - 76s 34ms/step - loss: 0.1420 - accuracy: 0.9642 - val_loss: 0.5819 - val_accuracy: 0.9158\n",
      "Epoch 99/100\n",
      "2233/2233 [==============================] - 77s 35ms/step - loss: 0.1418 - accuracy: 0.9646 - val_loss: 0.5849 - val_accuracy: 0.9164\n",
      "Epoch 100/100\n",
      "2233/2233 [==============================] - 77s 34ms/step - loss: 0.1416 - accuracy: 0.9645 - val_loss: 0.5882 - val_accuracy: 0.9163\n",
      "Trained model is saved to /home/ml/Model/Rico/icon/resnet50_unfrozen.h5\n"
     ]
    }
   ],
   "source": [
    "cnn.train(epoch_num=100, continue_with_loading=True)"
   ]
  },
  {
   "cell_type": "code",
   "execution_count": 8,
   "id": "809f1934",
   "metadata": {},
   "outputs": [
    {
     "ename": "KeyError",
     "evalue": "'accuracy'",
     "output_type": "error",
     "traceback": [
      "\u001b[0;31m---------------------------------------------------------------------------\u001b[0m",
      "\u001b[0;31mKeyError\u001b[0m                                  Traceback (most recent call last)",
      "\u001b[0;32m<ipython-input-8-24233b0541fd>\u001b[0m in \u001b[0;36m<module>\u001b[0;34m\u001b[0m\n\u001b[0;32m----> 1\u001b[0;31m \u001b[0mcnn\u001b[0m\u001b[0;34m.\u001b[0m\u001b[0mshow_training_history\u001b[0m\u001b[0;34m(\u001b[0m\u001b[0;34m)\u001b[0m\u001b[0;34m\u001b[0m\u001b[0;34m\u001b[0m\u001b[0m\n\u001b[0m",
      "\u001b[0;32m~/Code/github/GUI-Semantics/classification/cnn/CNN.py\u001b[0m in \u001b[0;36mshow_training_history\u001b[0;34m(self)\u001b[0m\n\u001b[1;32m    111\u001b[0m         \u001b[0;31m# summarize history for accuracy\u001b[0m\u001b[0;34m\u001b[0m\u001b[0;34m\u001b[0m\u001b[0;34m\u001b[0m\u001b[0m\n\u001b[1;32m    112\u001b[0m         \u001b[0mhistory\u001b[0m \u001b[0;34m=\u001b[0m \u001b[0mself\u001b[0m\u001b[0;34m.\u001b[0m\u001b[0mtraining_history\u001b[0m\u001b[0;34m\u001b[0m\u001b[0;34m\u001b[0m\u001b[0m\n\u001b[0;32m--> 113\u001b[0;31m         \u001b[0mplt\u001b[0m\u001b[0;34m.\u001b[0m\u001b[0mplot\u001b[0m\u001b[0;34m(\u001b[0m\u001b[0mhistory\u001b[0m\u001b[0;34m.\u001b[0m\u001b[0mhistory\u001b[0m\u001b[0;34m[\u001b[0m\u001b[0;34m'accuracy'\u001b[0m\u001b[0;34m]\u001b[0m\u001b[0;34m)\u001b[0m\u001b[0;34m\u001b[0m\u001b[0;34m\u001b[0m\u001b[0m\n\u001b[0m\u001b[1;32m    114\u001b[0m         \u001b[0mplt\u001b[0m\u001b[0;34m.\u001b[0m\u001b[0mplot\u001b[0m\u001b[0;34m(\u001b[0m\u001b[0mhistory\u001b[0m\u001b[0;34m.\u001b[0m\u001b[0mhistory\u001b[0m\u001b[0;34m[\u001b[0m\u001b[0;34m'val_accuracy'\u001b[0m\u001b[0;34m]\u001b[0m\u001b[0;34m)\u001b[0m\u001b[0;34m\u001b[0m\u001b[0;34m\u001b[0m\u001b[0m\n\u001b[1;32m    115\u001b[0m         \u001b[0mplt\u001b[0m\u001b[0;34m.\u001b[0m\u001b[0mtitle\u001b[0m\u001b[0;34m(\u001b[0m\u001b[0;34m'model accuracy'\u001b[0m\u001b[0;34m)\u001b[0m\u001b[0;34m\u001b[0m\u001b[0;34m\u001b[0m\u001b[0m\n",
      "\u001b[0;31mKeyError\u001b[0m: 'accuracy'"
     ]
    }
   ],
   "source": [
    "cnn.show_training_history()"
   ]
  },
  {
   "cell_type": "code",
   "execution_count": 9,
   "id": "2183ec67",
   "metadata": {},
   "outputs": [
    {
     "name": "stdout",
     "output_type": "stream",
     "text": [
      "3213/3213 [==============================] - 27s 8ms/step\n",
      "[[19060   374    22  2256   186     1]\n",
      " [  503  2691    38   529    66   117]\n",
      " [   51    65   183   103     7     0]\n",
      " [ 1484   188    43 36073  3862     9]\n",
      " [  212    45     4  4495 29347     5]\n",
      " [   14    38     2    99    13   614]]\n",
      "Precision:0.856, Recall:0.856\n"
     ]
    }
   ],
   "source": [
    "cnn.evaluate(data)"
   ]
  },
  {
   "cell_type": "code",
   "execution_count": null,
   "id": "fccd203c",
   "metadata": {},
   "outputs": [],
   "source": []
  }
 ],
 "metadata": {
  "kernelspec": {
   "display_name": "Python 3",
   "language": "python",
   "name": "python3"
  },
  "language_info": {
   "codemirror_mode": {
    "name": "ipython",
    "version": 3
   },
   "file_extension": ".py",
   "mimetype": "text/x-python",
   "name": "python",
   "nbconvert_exporter": "python",
   "pygments_lexer": "ipython3",
   "version": "3.6.9"
  }
 },
 "nbformat": 4,
 "nbformat_minor": 5
}

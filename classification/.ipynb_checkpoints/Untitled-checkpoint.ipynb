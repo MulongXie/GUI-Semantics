{
 "cells": [
  {
   "cell_type": "code",
   "execution_count": 5,
   "id": "8436f35b",
   "metadata": {},
   "outputs": [],
   "source": [
    "from cnn.Data import Data\n",
    "from cnn.CNN import CNN"
   ]
  },
  {
   "cell_type": "code",
   "execution_count": 2,
   "id": "423d18a8",
   "metadata": {},
   "outputs": [],
   "source": [
    "data = Data()"
   ]
  },
  {
   "cell_type": "code",
   "execution_count": 3,
   "id": "0b0c46fd",
   "metadata": {},
   "outputs": [
    {
     "name": "stdout",
     "output_type": "stream",
     "text": [
      "Total Images: 109442; \t Load image in class of Text Button [0]\n"
     ]
    },
    {
     "name": "stderr",
     "output_type": "stream",
     "text": [
      "100%|██████████| 109442/109442 [01:20<00:00, 1353.55it/s]\n"
     ]
    },
    {
     "name": "stdout",
     "output_type": "stream",
     "text": [
      "Total Images: 20087; \t Load image in class of Input [1]\n"
     ]
    },
    {
     "name": "stderr",
     "output_type": "stream",
     "text": [
      "100%|██████████| 20087/20087 [00:16<00:00, 1246.77it/s]\n"
     ]
    },
    {
     "name": "stdout",
     "output_type": "stream",
     "text": [
      "Total Images: 2000; \t Load image in class of Switch [2]\n"
     ]
    },
    {
     "name": "stderr",
     "output_type": "stream",
     "text": [
      "100%|██████████| 2000/2000 [00:06<00:00, 292.65it/s]\n"
     ]
    },
    {
     "name": "stdout",
     "output_type": "stream",
     "text": [
      "Total Images: 207345; \t Load image in class of Image [3]\n"
     ]
    },
    {
     "name": "stderr",
     "output_type": "stream",
     "text": [
      "100%|██████████| 207345/207345 [03:36<00:00, 955.91it/s] \n"
     ]
    },
    {
     "name": "stdout",
     "output_type": "stream",
     "text": [
      "Total Images: 171123; \t Load image in class of Icon [4]\n"
     ]
    },
    {
     "name": "stderr",
     "output_type": "stream",
     "text": [
      "100%|██████████| 171123/171123 [00:32<00:00, 5218.14it/s]\n"
     ]
    },
    {
     "name": "stdout",
     "output_type": "stream",
     "text": [
      "Total Images: 3995; \t Load image in class of Checkbox [5]\n"
     ]
    },
    {
     "name": "stderr",
     "output_type": "stream",
     "text": [
      "100%|██████████| 3995/3995 [00:00<00:00, 6203.71it/s]\n"
     ]
    }
   ],
   "source": [
    "data.load_data_in_class_map()"
   ]
  },
  {
   "cell_type": "code",
   "execution_count": 4,
   "id": "2faaff3c",
   "metadata": {},
   "outputs": [
    {
     "name": "stdout",
     "output_type": "stream",
     "text": [
      "X_train:411193, Y_train:411193\n",
      "X_test:102799, Y_test:102799\n"
     ]
    }
   ],
   "source": [
    "data.generate_training_data()"
   ]
  },
  {
   "cell_type": "code",
   "execution_count": 6,
   "id": "fe744245",
   "metadata": {},
   "outputs": [],
   "source": []
  },
  {
   "cell_type": "code",
   "execution_count": 6,
   "id": "d5a7ae73",
   "metadata": {},
   "outputs": [],
   "source": [
    "cnn = CNN(data)"
   ]
  },
  {
   "cell_type": "code",
   "execution_count": 8,
   "id": "bfd12f7e",
   "metadata": {},
   "outputs": [
    {
     "name": "stderr",
     "output_type": "stream",
     "text": [
      "/home/ml/.local/lib/python3.6/site-packages/keras_applications/resnet50.py:265: UserWarning: The output shape of `ResNet50(include_top=False)` has been changed since Keras 2.2.0.\n",
      "  warnings.warn('The output shape of `ResNet50(include_top=False)` '\n"
     ]
    },
    {
     "name": "stdout",
     "output_type": "stream",
     "text": [
      "Epoch 1/30\n",
      "6425/6425 [==============================] - 88s 13ms/step - loss: 1.7154 - accuracy: 0.3476 - val_loss: 1.1961 - val_accuracy: 0.4568\n",
      "Epoch 2/30\n",
      "6425/6425 [==============================] - 83s 13ms/step - loss: 1.2582 - accuracy: 0.4302 - val_loss: 1.1656 - val_accuracy: 0.4894\n",
      "Epoch 3/30\n",
      "6425/6425 [==============================] - 84s 13ms/step - loss: 1.2158 - accuracy: 0.4628 - val_loss: 1.1511 - val_accuracy: 0.4971\n",
      "Epoch 4/30\n",
      "6425/6425 [==============================] - 84s 13ms/step - loss: 1.2003 - accuracy: 0.4766 - val_loss: 1.1409 - val_accuracy: 0.5023\n",
      "Epoch 5/30\n",
      "6425/6425 [==============================] - 84s 13ms/step - loss: 1.1889 - accuracy: 0.4859 - val_loss: 1.1328 - val_accuracy: 0.5086\n",
      "Epoch 6/30\n",
      "6425/6425 [==============================] - 84s 13ms/step - loss: 1.1793 - accuracy: 0.4916 - val_loss: 1.1264 - val_accuracy: 0.5171\n",
      "Epoch 7/30\n",
      "6425/6425 [==============================] - 83s 13ms/step - loss: 1.1711 - accuracy: 0.5000 - val_loss: 1.1201 - val_accuracy: 0.5258\n",
      "Epoch 8/30\n",
      "6425/6425 [==============================] - 83s 13ms/step - loss: 1.1625 - accuracy: 0.5056 - val_loss: 1.1151 - val_accuracy: 0.5296\n",
      "Epoch 9/30\n",
      "6425/6425 [==============================] - 83s 13ms/step - loss: 1.1567 - accuracy: 0.5103 - val_loss: 1.1107 - val_accuracy: 0.5367\n",
      "Epoch 10/30\n",
      "6425/6425 [==============================] - 84s 13ms/step - loss: 1.1511 - accuracy: 0.5143 - val_loss: 1.1062 - val_accuracy: 0.5375\n",
      "Epoch 11/30\n",
      "6425/6425 [==============================] - 84s 13ms/step - loss: 1.1468 - accuracy: 0.5188 - val_loss: 1.1024 - val_accuracy: 0.5469\n",
      "Epoch 12/30\n",
      "6425/6425 [==============================] - 83s 13ms/step - loss: 1.1417 - accuracy: 0.5223 - val_loss: 1.0988 - val_accuracy: 0.5514\n",
      "Epoch 13/30\n",
      "6425/6425 [==============================] - 83s 13ms/step - loss: 1.1374 - accuracy: 0.5253 - val_loss: 1.0955 - val_accuracy: 0.5502\n",
      "Epoch 14/30\n",
      "6425/6425 [==============================] - 84s 13ms/step - loss: 1.1334 - accuracy: 0.5291 - val_loss: 1.0923 - val_accuracy: 0.5547\n",
      "Epoch 15/30\n",
      "6425/6425 [==============================] - 84s 13ms/step - loss: 1.1293 - accuracy: 0.5318 - val_loss: 1.0889 - val_accuracy: 0.5545\n",
      "Epoch 16/30\n",
      "6425/6425 [==============================] - 85s 13ms/step - loss: 1.1256 - accuracy: 0.5343 - val_loss: 1.0863 - val_accuracy: 0.5559\n",
      "Epoch 17/30\n",
      "6425/6425 [==============================] - 83s 13ms/step - loss: 1.1224 - accuracy: 0.5366 - val_loss: 1.0832 - val_accuracy: 0.5604\n",
      "Epoch 18/30\n",
      "6425/6425 [==============================] - 83s 13ms/step - loss: 1.1193 - accuracy: 0.5397 - val_loss: 1.0806 - val_accuracy: 0.5629\n",
      "Epoch 19/30\n",
      "6425/6425 [==============================] - 85s 13ms/step - loss: 1.1164 - accuracy: 0.5428 - val_loss: 1.0779 - val_accuracy: 0.5677\n",
      "Epoch 20/30\n",
      "6425/6425 [==============================] - 84s 13ms/step - loss: 1.1128 - accuracy: 0.5445 - val_loss: 1.0751 - val_accuracy: 0.5675\n",
      "Epoch 21/30\n",
      "6425/6425 [==============================] - 84s 13ms/step - loss: 1.1104 - accuracy: 0.5465 - val_loss: 1.0726 - val_accuracy: 0.5678\n",
      "Epoch 22/30\n",
      "6425/6425 [==============================] - 83s 13ms/step - loss: 1.1076 - accuracy: 0.5490 - val_loss: 1.0704 - val_accuracy: 0.5701\n",
      "Epoch 23/30\n",
      "6425/6425 [==============================] - 84s 13ms/step - loss: 1.1041 - accuracy: 0.5499 - val_loss: 1.0680 - val_accuracy: 0.5695\n",
      "Epoch 24/30\n",
      "6425/6425 [==============================] - 83s 13ms/step - loss: 1.1014 - accuracy: 0.5523 - val_loss: 1.0656 - val_accuracy: 0.5728\n",
      "Epoch 25/30\n",
      "6425/6425 [==============================] - 83s 13ms/step - loss: 1.0997 - accuracy: 0.5534 - val_loss: 1.0636 - val_accuracy: 0.5754\n",
      "Epoch 26/30\n",
      "6425/6425 [==============================] - 82s 13ms/step - loss: 1.0966 - accuracy: 0.5559 - val_loss: 1.0615 - val_accuracy: 0.5744\n",
      "Epoch 27/30\n",
      "6425/6425 [==============================] - 83s 13ms/step - loss: 1.0942 - accuracy: 0.5571 - val_loss: 1.0588 - val_accuracy: 0.5773\n",
      "Epoch 28/30\n",
      "6425/6425 [==============================] - 84s 13ms/step - loss: 1.0928 - accuracy: 0.5586 - val_loss: 1.0573 - val_accuracy: 0.5802\n",
      "Epoch 29/30\n",
      "6425/6425 [==============================] - 85s 13ms/step - loss: 1.0893 - accuracy: 0.5609 - val_loss: 1.0548 - val_accuracy: 0.5800\n",
      "Epoch 30/30\n",
      "6425/6425 [==============================] - 85s 13ms/step - loss: 1.0876 - accuracy: 0.5616 - val_loss: 1.0528 - val_accuracy: 0.5812\n"
     ]
    },
    {
     "name": "stderr",
     "output_type": "stream",
     "text": [
      "/home/ml/.local/lib/python3.6/site-packages/keras/utils/generic_utils.py:497: CustomMaskWarning: Custom mask layers require a config and must override get_config. When loading, the custom mask layer must be passed to the custom_objects argument.\n",
      "  category=CustomMaskWarning)\n"
     ]
    },
    {
     "name": "stdout",
     "output_type": "stream",
     "text": [
      "Trained model is saved to /home/ml/Model/Rico/component/component1.h5\n"
     ]
    }
   ],
   "source": [
    "cnn.train()"
   ]
  },
  {
   "cell_type": "code",
   "execution_count": null,
   "id": "9a54d85c",
   "metadata": {},
   "outputs": [],
   "source": []
  }
 ],
 "metadata": {
  "kernelspec": {
   "display_name": "Python 3",
   "language": "python",
   "name": "python3"
  },
  "language_info": {
   "codemirror_mode": {
    "name": "ipython",
    "version": 3
   },
   "file_extension": ".py",
   "mimetype": "text/x-python",
   "name": "python",
   "nbconvert_exporter": "python",
   "pygments_lexer": "ipython3",
   "version": "3.6.9"
  }
 },
 "nbformat": 4,
 "nbformat_minor": 5
}

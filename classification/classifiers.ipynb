{
 "cells": [
  {
   "cell_type": "code",
   "execution_count": 1,
   "id": "b87be7c0",
   "metadata": {
    "pycharm": {
     "name": "#%%\n"
    }
   },
   "outputs": [],
   "source": [
    "from ElementClassifier import ElementClassifier"
   ]
  },
  {
   "cell_type": "code",
   "execution_count": 2,
   "id": "0c5bedc8",
   "metadata": {
    "pycharm": {
     "name": "#%%\n"
    }
   },
   "outputs": [],
   "source": [
    "cls = ElementClassifier()"
   ]
  },
  {
   "cell_type": "code",
   "execution_count": 3,
   "id": "834f5124",
   "metadata": {
    "pycharm": {
     "name": "#%%\n"
    }
   },
   "outputs": [
    {
     "name": "stdout",
     "output_type": "stream",
     "text": [
      "Model Loaded From /home/ml/Model/Rico/component/resnet50_unfrozen_compo.h5\n",
      "Model Loaded From /home/ml/Model/Rico/icon/resnet50_unfrozen_icon.h5\n",
      "Training History Loaded From /home/ml/Model/Rico/icon/resnet50_unfrozen_icon_history.json\n",
      "Load ResNet50 pretrained on ImageNet\n"
     ]
    }
   ],
   "source": [
    "cls.load_classifiers()"
   ]
  },
  {
   "cell_type": "code",
   "execution_count": 6,
   "id": "b10df888",
   "metadata": {
    "pycharm": {
     "name": "#%%\n"
    }
   },
   "outputs": [
    {
     "name": "stdout",
     "output_type": "stream",
     "text": [
      " wall clock\n",
      " analog clock\n"
     ]
    }
   ],
   "source": [
    "cls.predict_img_files(['data/a1.jpg','data/a2.jpg'], opt='image', show=True)"
   ]
  }
 ],
 "metadata": {
  "kernelspec": {
   "display_name": "Python 3",
   "language": "python",
   "name": "python3"
  },
  "language_info": {
   "codemirror_mode": {
    "name": "ipython",
    "version": 3
   },
   "file_extension": ".py",
   "mimetype": "text/x-python",
   "name": "python",
   "nbconvert_exporter": "python",
   "pygments_lexer": "ipython3",
   "version": "3.6.9"
  }
 },
 "nbformat": 4,
 "nbformat_minor": 5
}
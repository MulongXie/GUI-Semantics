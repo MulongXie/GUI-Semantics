{
 "cells": [
  {
   "cell_type": "code",
   "execution_count": 1,
   "metadata": {},
   "outputs": [],
   "source": [
    "from os.path import join as pjoin\n",
    "from DataInspector import DataInspector"
   ]
  },
  {
   "cell_type": "code",
   "execution_count": 2,
   "metadata": {},
   "outputs": [],
   "source": [
    "data = DataInspector()"
   ]
  },
  {
   "cell_type": "code",
   "execution_count": 3,
   "metadata": {},
   "outputs": [],
   "source": [
    "data.get_json_files()"
   ]
  },
  {
   "cell_type": "code",
   "execution_count": 4,
   "metadata": {},
   "outputs": [
    {
     "name": "stdout",
     "output_type": "stream",
     "text": [
      "E:\\Mulong\\Datasets\\gui\\rico\\combined\\all\\0.jpg\n"
     ]
    }
   ],
   "source": [
    "for jfile in data.json_files:\n",
    "    imgfile = data.get_another_file(jfile)\n",
    "    print(imgfile)\n",
    "    \n",
    "    gui = data.load_gui(imgfile , jfile)\n",
    "    break"
   ]
  },
  {
   "cell_type": "code",
   "execution_count": 5,
   "metadata": {},
   "outputs": [],
   "source": [
    "gui.extract_elements_from_vh()"
   ]
  },
  {
   "cell_type": "code",
   "execution_count": 6,
   "metadata": {},
   "outputs": [
    {
     "name": "stdout",
     "output_type": "stream",
     "text": [
      "{'scrollable-horizontal': False, 'children_id': [1, 20], 'rel-bounds': [0, 0, 1440, 2560], 'content-desc': [None], 'clickable': False, 'selected': False, 'draw': True, 'pointer': '6348425', 'focused': False, 'abs-pos': True, 'long-clickable': False, 'enabled': True, 'adapter-view': False, 'visibility': 'visible', 'bounds': [0, 0, 1440, 2560], 'class': 'com.android.internal.policy.PhoneWindow$DecorView', 'visible-to-user': True, 'scrollable-vertical': False, 'id': 0, 'focusable': False, 'pressed': 'not_pressed'}\n",
      "{'scrollable-horizontal': False, 'children_id': [2, 3], 'rel-bounds': [0, 0, 1440, 2392], 'content-desc': [None], 'clickable': False, 'selected': False, 'draw': True, 'pointer': 'e3db9fa', 'focused': False, 'abs-pos': True, 'long-clickable': False, 'enabled': True, 'adapter-view': False, 'visibility': 'visible', 'bounds': [0, 0, 1440, 2392], 'class': 'android.widget.LinearLayout', 'visible-to-user': True, 'scrollable-vertical': False, 'id': 1, 'focusable': False, 'pressed': 'not_pressed'}\n",
      "{'scrollable-horizontal': False, 'children_id': [4], 'rel-bounds': [0, 0, 1440, 2392], 'content-desc': [None], 'clickable': False, 'selected': False, 'draw': True, 'pointer': '141c208', 'resource-id': 'android:id/content', 'focused': False, 'abs-pos': True, 'long-clickable': False, 'enabled': True, 'adapter-view': False, 'visibility': 'visible', 'bounds': [0, 0, 1440, 2392], 'visible-to-user': True, 'class': 'android.widget.FrameLayout', 'scrollable-vertical': False, 'id': 3, 'focusable': False, 'pressed': 'not_pressed', 'package': 'android'}\n",
      "{'scrollable-horizontal': False, 'children_id': [5, 7], 'rel-bounds': [0, 0, 1440, 2392], 'content-desc': [None], 'clickable': False, 'selected': False, 'draw': True, 'pointer': 'c4e3da1', 'focused': False, 'abs-pos': True, 'long-clickable': False, 'enabled': True, 'adapter-view': False, 'visibility': 'visible', 'bounds': [0, 0, 1440, 2392], 'class': 'android.widget.FrameLayout', 'visible-to-user': True, 'scrollable-vertical': False, 'id': 4, 'focusable': False, 'pressed': 'not_pressed'}\n",
      "{'scrollable-horizontal': False, 'children_id': [6], 'rel-bounds': [0, 0, 1440, 2392], 'content-desc': [None], 'clickable': False, 'selected': False, 'draw': True, 'pointer': 'f9d7bc6', 'resource-id': 'com.brc.PeriodTrackerDiary:id/webViewContainer', 'focused': False, 'abs-pos': True, 'long-clickable': False, 'enabled': True, 'adapter-view': False, 'visibility': 'visible', 'bounds': [0, 0, 1440, 2392], 'visible-to-user': True, 'class': 'android.widget.FrameLayout', 'scrollable-vertical': False, 'id': 5, 'focusable': False, 'pressed': 'not_pressed', 'package': 'com.brc.PeriodTrackerDiary'}\n",
      "{'scrollable-horizontal': True, 'visible-to-user': True, 'rel-bounds': [0, 0, 1440, 2392], 'scrollable-vertical': False, 'content-desc': [None], 'id': 6, 'enabled': True, 'selected': False, 'draw': False, 'pointer': '2e83787', 'focused': True, 'abs-pos': True, 'long-clickable': False, 'clickable': True, 'focusable': True, 'adapter-view': False, 'visibility': 'visible', 'bounds': [0, 0, 1440, 2392], 'pressed': 'not_pressed', 'class': 'org.apache.cordova.engine.SystemWebView'}\n"
     ]
    }
   ],
   "source": [
    "gui.visualize_elements()"
   ]
  },
  {
   "cell_type": "code",
   "execution_count": null,
   "metadata": {},
   "outputs": [],
   "source": []
  }
 ],
 "metadata": {
  "kernelspec": {
   "display_name": "Python 3",
   "language": "python",
   "name": "python3"
  },
  "language_info": {
   "codemirror_mode": {
    "name": "ipython",
    "version": 3
   },
   "file_extension": ".py",
   "mimetype": "text/x-python",
   "name": "python",
   "nbconvert_exporter": "python",
   "pygments_lexer": "ipython3",
   "version": "3.5.6"
  }
 },
 "nbformat": 4,
 "nbformat_minor": 2
}

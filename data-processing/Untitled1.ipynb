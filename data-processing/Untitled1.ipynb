{
 "cells": [
  {
   "cell_type": "code",
   "execution_count": 1,
   "metadata": {},
   "outputs": [],
   "source": [
    "from os.path import join as pjoin\n",
    "from DataInspector import DataInspector"
   ]
  },
  {
   "cell_type": "code",
   "execution_count": 2,
   "metadata": {},
   "outputs": [],
   "source": [
    "data = DataInspector()"
   ]
  },
  {
   "cell_type": "code",
   "execution_count": 3,
   "metadata": {},
   "outputs": [],
   "source": [
    "data.get_json_files()"
   ]
  },
  {
   "cell_type": "code",
   "execution_count": null,
   "metadata": {},
   "outputs": [
    {
     "name": "stdout",
     "output_type": "stream",
     "text": [
      "E:\\Mulong\\Datasets\\gui\\rico\\combined\\all\\0.jpg\n",
      "E:\\Mulong\\Datasets\\gui\\rico\\combined\\all\\1.jpg\n",
      "E:\\Mulong\\Datasets\\gui\\rico\\combined\\all\\10.jpg\n",
      "E:\\Mulong\\Datasets\\gui\\rico\\combined\\all\\100.jpg\n",
      "E:\\Mulong\\Datasets\\gui\\rico\\combined\\all\\1000.jpg\n",
      "E:\\Mulong\\Datasets\\gui\\rico\\combined\\all\\10000.jpg\n",
      "E:\\Mulong\\Datasets\\gui\\rico\\combined\\all\\10002.jpg\n",
      "E:\\Mulong\\Datasets\\gui\\rico\\combined\\all\\10003.jpg\n",
      "E:\\Mulong\\Datasets\\gui\\rico\\combined\\all\\10004.jpg\n",
      "E:\\Mulong\\Datasets\\gui\\rico\\combined\\all\\10005.jpg\n",
      "E:\\Mulong\\Datasets\\gui\\rico\\combined\\all\\10008.jpg\n",
      "E:\\Mulong\\Datasets\\gui\\rico\\combined\\all\\1001.jpg\n",
      "E:\\Mulong\\Datasets\\gui\\rico\\combined\\all\\10010.jpg\n",
      "E:\\Mulong\\Datasets\\gui\\rico\\combined\\all\\10011.jpg\n",
      "E:\\Mulong\\Datasets\\gui\\rico\\combined\\all\\10012.jpg\n",
      "E:\\Mulong\\Datasets\\gui\\rico\\combined\\all\\10013.jpg\n",
      "E:\\Mulong\\Datasets\\gui\\rico\\combined\\all\\10014.jpg\n",
      "E:\\Mulong\\Datasets\\gui\\rico\\combined\\all\\10015.jpg\n",
      "E:\\Mulong\\Datasets\\gui\\rico\\combined\\all\\10016.jpg\n",
      "E:\\Mulong\\Datasets\\gui\\rico\\combined\\all\\10017.jpg\n",
      "E:\\Mulong\\Datasets\\gui\\rico\\combined\\all\\10018.jpg\n",
      "E:\\Mulong\\Datasets\\gui\\rico\\combined\\all\\10019.jpg\n",
      "E:\\Mulong\\Datasets\\gui\\rico\\combined\\all\\1002.jpg\n",
      "E:\\Mulong\\Datasets\\gui\\rico\\combined\\all\\10020.jpg\n",
      "E:\\Mulong\\Datasets\\gui\\rico\\combined\\all\\10021.jpg\n",
      "E:\\Mulong\\Datasets\\gui\\rico\\combined\\all\\10022.jpg\n",
      "E:\\Mulong\\Datasets\\gui\\rico\\combined\\all\\10023.jpg\n",
      "E:\\Mulong\\Datasets\\gui\\rico\\combined\\all\\10024.jpg\n",
      "E:\\Mulong\\Datasets\\gui\\rico\\combined\\all\\10025.jpg\n",
      "E:\\Mulong\\Datasets\\gui\\rico\\combined\\all\\10026.jpg\n",
      "E:\\Mulong\\Datasets\\gui\\rico\\combined\\all\\10027.jpg\n",
      "E:\\Mulong\\Datasets\\gui\\rico\\combined\\all\\10028.jpg\n",
      "E:\\Mulong\\Datasets\\gui\\rico\\combined\\all\\10029.jpg\n",
      "E:\\Mulong\\Datasets\\gui\\rico\\combined\\all\\1003.jpg\n",
      "E:\\Mulong\\Datasets\\gui\\rico\\combined\\all\\10030.jpg\n",
      "E:\\Mulong\\Datasets\\gui\\rico\\combined\\all\\10031.jpg\n",
      "E:\\Mulong\\Datasets\\gui\\rico\\combined\\all\\10032.jpg\n",
      "E:\\Mulong\\Datasets\\gui\\rico\\combined\\all\\10033.jpg\n",
      "E:\\Mulong\\Datasets\\gui\\rico\\combined\\all\\10034.jpg\n",
      "E:\\Mulong\\Datasets\\gui\\rico\\combined\\all\\10035.jpg\n",
      "E:\\Mulong\\Datasets\\gui\\rico\\combined\\all\\10036.jpg\n",
      "E:\\Mulong\\Datasets\\gui\\rico\\combined\\all\\10037.jpg\n",
      "E:\\Mulong\\Datasets\\gui\\rico\\combined\\all\\10038.jpg\n",
      "E:\\Mulong\\Datasets\\gui\\rico\\combined\\all\\10039.jpg\n",
      "E:\\Mulong\\Datasets\\gui\\rico\\combined\\all\\1004.jpg\n"
     ]
    }
   ],
   "source": [
    "for jfile in data.json_files:\n",
    "    imgfile = data.get_another_file(jfile)\n",
    "    print(imgfile)\n",
    "    \n",
    "    gui = data.load_gui(imgfile , jfile)"
   ]
  },
  {
   "cell_type": "code",
   "execution_count": null,
   "metadata": {},
   "outputs": [],
   "source": []
  }
 ],
 "metadata": {
  "kernelspec": {
   "display_name": "Python 3",
   "language": "python",
   "name": "python3"
  },
  "language_info": {
   "codemirror_mode": {
    "name": "ipython",
    "version": 3
   },
   "file_extension": ".py",
   "mimetype": "text/x-python",
   "name": "python",
   "nbconvert_exporter": "python",
   "pygments_lexer": "ipython3",
   "version": "3.5.6"
  }
 },
 "nbformat": 4,
 "nbformat_minor": 2
}

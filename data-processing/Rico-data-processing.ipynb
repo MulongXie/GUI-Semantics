{
 "cells": [
  {
   "cell_type": "code",
   "execution_count": 1,
   "metadata": {},
   "outputs": [],
   "source": [
    "from os.path import join as pjoin\n",
    "from DataInspector import DataInspector\n",
    "import json"
   ]
  },
  {
   "cell_type": "code",
   "execution_count": 2,
   "metadata": {},
   "outputs": [],
   "source": [
    "data = DataInspector(img_directory='/home/ml/Data/rico/combined/', json_directory='/home/ml/Data/rico/semantic/')"
   ]
  },
  {
   "cell_type": "code",
   "execution_count": 3,
   "metadata": {},
   "outputs": [],
   "source": [
    "data.get_all_json_files()"
   ]
  },
  {
   "cell_type": "code",
   "execution_count": 5,
   "metadata": {},
   "outputs": [],
   "source": [
    "'''\n",
    "*******************************************\n",
    "*** Collect Component by ComponentLabel ***\n",
    "*******************************************\n",
    "'''\n",
    "start_point = 19820\n",
    "end_point = 70000\n",
    "\n",
    "bad_cases = []\n",
    "for i, jfile in enumerate(data.json_files):\n",
    "    if i < start_point:\n",
    "        continue\n",
    "    if i > end_point:\n",
    "        break\n",
    "    imgfile = data.generate_file_path(source_file=jfile, target_file_type='.jpg')\n",
    "    print('\\n********** [%.3f] %s **********' %(i/(end_point - start_point), jfile))\n",
    "    try:\n",
    "        data.load_gui_img_and_element(imgfile, jfile)\n",
    "        data.save_elements_clips_by_compo_label('/home/ml/Data/rico/component/')\n",
    "    except Exception as E:\n",
    "        bad_cases.append(imgfile)"
   ]
  },
  {
   "cell_type": "code",
   "execution_count": null,
   "metadata": {},
   "outputs": [],
   "source": []
  },
  {
   "cell_type": "code",
   "execution_count": 7,
   "metadata": {},
   "outputs": [
    {
     "name": "stdout",
     "output_type": "stream",
     "text": [
      "{'resource-id': 'se.perigee.android.seven:id/action_bar_container', 'clickable': False, 'class': 'android.support.v7.widget.ActionBarContainer', 'bounds': [0, 84, 1440, 280], 'componentLabel': 'Toolbar', 'id': 1, 'children-id': [2, 3, 4]} \n",
      "\n",
      "{'text': 'Well done!', 'clickable': False, 'class': 'android.support.v7.widget.AppCompatTextView', 'bounds': [252, 135, 580, 228], 'componentLabel': 'Text', 'id': 2} \n",
      "\n",
      "{'iconClass': 'arrow_backward', 'bounds': [0, 84, 196, 280], 'clickable': True, 'class': 'android.support.v7.widget.AppCompatImageButton', 'componentLabel': 'Icon', 'id': 3} \n",
      "\n",
      "{'iconClass': 'share', 'resource-id': 'se.perigee.android.seven:id/action_share', 'clickable': True, 'class': 'android.support.v7.view.menu.ActionMenuItemView', 'bounds': [1272, 98, 1440, 266], 'componentLabel': 'Icon', 'id': 4} \n",
      "\n",
      "{'class': 'android.support.v7.widget.CardView', 'bounds': [28, 280, 1412, 674], 'clickable': False, 'componentLabel': 'Card', 'id': 5, 'children-id': [6, 7, 8, 9, 10, 11, 12]} \n",
      "\n",
      "{'text': 'Workout summary', 'bounds': [66, 280, 783, 356], 'clickable': False, 'class': 'android.support.v7.widget.AppCompatTextView', 'componentLabel': 'Text', 'id': 6} \n",
      "\n",
      "{'iconClass': 'emoji', 'resource-id': 'se.perigee.android.seven:id/summary_workout_icon', 'clickable': False, 'class': 'android.support.v7.widget.AppCompatImageView', 'bounds': [235, 384, 333, 510], 'componentLabel': 'Icon', 'id': 7} \n",
      "\n",
      "{'text': 'Full Body', 'resource-id': 'se.perigee.android.seven:id/summary_workout_name', 'clickable': False, 'class': 'android.support.v7.widget.AppCompatTextView', 'bounds': [162, 524, 405, 605], 'componentLabel': 'Text', 'id': 8} \n",
      "\n",
      "{'bounds': [671, 384, 769, 510], 'clickable': False, 'class': 'android.support.v7.widget.AppCompatImageView', 'componentLabel': 'Image', 'id': 9} \n",
      "\n",
      "{'text': '7:53 Minutes', 'resource-id': 'se.perigee.android.seven:id/summary_circuits_time', 'clickable': False, 'class': 'android.support.v7.widget.AppCompatTextView', 'bounds': [546, 524, 894, 605], 'componentLabel': 'Text', 'id': 10} \n",
      "\n",
      "{'iconClass': 'refresh', 'bounds': [1107, 384, 1205, 510], 'clickable': False, 'class': 'android.support.v7.widget.AppCompatImageView', 'componentLabel': 'Icon', 'id': 11} \n",
      "\n",
      "{'text': '1 circuit', 'resource-id': 'se.perigee.android.seven:id/summary_no_of_circuits', 'clickable': False, 'class': 'android.support.v7.widget.AppCompatTextView', 'bounds': [1049, 524, 1262, 605], 'componentLabel': 'Text', 'id': 12} \n",
      "\n",
      "{'resource-id': 'se.perigee.android.seven:id/achievements_unlocked_card', 'clickable': False, 'class': 'android.support.v7.widget.CardView', 'bounds': [28, 702, 1412, 1416], 'componentLabel': 'Card', 'id': 13, 'children-id': [14, 15, 18]} \n",
      "\n",
      "{'text': 'Achievements', 'bounds': [66, 743, 632, 907], 'clickable': False, 'class': 'android.support.v7.widget.AppCompatTextView', 'componentLabel': 'Text', 'id': 14} \n",
      "\n",
      "{'resource-id': 'se.perigee.android.seven:id/image', 'clickable': False, 'class': 'android.support.v7.widget.AppCompatImageView', 'bounds': [249, 908, 536, 1195], 'componentLabel': 'Image', 'id': 16} \n",
      "\n",
      "{'text': 'Challenge Accepted', 'resource-id': 'se.perigee.android.seven:id/text', 'clickable': False, 'class': 'android.support.v7.widget.AppCompatTextView', 'bounds': [218, 1195, 568, 1347], 'componentLabel': 'Text', 'id': 17} \n",
      "\n",
      "{'resource-id': 'se.perigee.android.seven:id/image', 'clickable': False, 'class': 'android.support.v7.widget.AppCompatImageView', 'bounds': [903, 908, 1190, 1195], 'componentLabel': 'Image', 'id': 19} \n",
      "\n",
      "{'text': 'Afternoon Boost', 'resource-id': 'se.perigee.android.seven:id/text', 'clickable': False, 'class': 'android.support.v7.widget.AppCompatTextView', 'bounds': [872, 1195, 1222, 1347], 'componentLabel': 'Text', 'id': 20} \n",
      "\n",
      "{'class': 'android.support.v7.widget.CardView', 'bounds': [28, 1444, 1412, 2110], 'clickable': False, 'componentLabel': 'Card', 'id': 21, 'children-id': [22, 23, 24]} \n",
      "\n",
      "{'text': 'Active Calories', 'resource-id': 'se.perigee.android.seven:id/calories_title', 'clickable': False, 'class': 'android.support.v7.widget.AppCompatTextView', 'bounds': [66, 1485, 659, 1649], 'componentLabel': 'Text', 'id': 22} \n",
      "\n",
      "{'bounds': [371, 1790, 480, 1899], 'clickable': False, 'class': 'android.support.v7.widget.AppCompatImageView', 'componentLabel': 'Image', 'id': 23} \n",
      "\n",
      "{'text': 'Enter your body details to track calories.', 'bounds': [508, 1733, 1068, 1956], 'clickable': False, 'class': 'android.support.v7.widget.AppCompatTextView', 'componentLabel': 'Text', 'id': 24} \n",
      "\n",
      "{'resource-id': 'se.perigee.android.seven:id/remove_ads_card', 'clickable': False, 'class': 'android.support.v7.widget.CardView', 'bounds': [28, 2138, 1412, 2392], 'componentLabel': 'Card', 'id': 25, 'children-id': [26]} \n",
      "\n",
      "{'text': 'Seen all the ads?', 'bounds': [66, 2179, 729, 2343], 'clickable': False, 'class': 'android.support.v7.widget.AppCompatTextView', 'componentLabel': 'Text', 'id': 26} \n",
      "\n"
     ]
    }
   ],
   "source": [
    "for e in data.current_gui.elements:\n",
    "    print(e, '\\n')"
   ]
  },
  {
   "cell_type": "code",
   "execution_count": null,
   "metadata": {},
   "outputs": [],
   "source": []
  },
  {
   "cell_type": "code",
   "execution_count": 4,
   "metadata": {},
   "outputs": [],
   "source": [
    "name = '4'\n",
    "data.load_gui_img_and_element('/home/ml/Data/rico/combined/'+name+'.jpg', '/home/ml/Data/rico/semantic/'+name+'.json', show=False)"
   ]
  },
  {
   "cell_type": "code",
   "execution_count": 5,
   "metadata": {},
   "outputs": [
    {
     "name": "stdout",
     "output_type": "stream",
     "text": [
      "{'arrow_backward': 1, 'share': 1, 'emoji': 1, 'refresh': 1}\n"
     ]
    }
   ],
   "source": [
    "data.save_icons_clips_by_icon_class('/home/ml/Data/rico/icon/')"
   ]
  },
  {
   "cell_type": "code",
   "execution_count": 8,
   "metadata": {},
   "outputs": [],
   "source": [
    "'''\n",
    "**********************************\n",
    "*** Collect Icons by iconClass ***\n",
    "**********************************\n",
    "'''\n",
    "start_point = 0\n",
    "end_point = 70000\n",
    "\n",
    "bad_cases = []\n",
    "for i, jfile in enumerate(data.json_files):\n",
    "    if i < start_point:\n",
    "        continue\n",
    "    if i > end_point:\n",
    "        break\n",
    "    imgfile = data.generate_file_path(source_file=jfile, target_file_type='.jpg')\n",
    "    print('\\n********** [%.3f] %s **********' %(i/(end_point - start_point), jfile))\n",
    "    try:\n",
    "        data.load_gui_img_and_element(imgfile, jfile)\n",
    "        data.save_icons_clips_by_icon_class('/home/ml/Data/rico/icon/')\n",
    "    except Exception as E:\n",
    "        bad_cases.append(imgfile)"
   ]
  }
 ],
 "metadata": {
  "kernelspec": {
   "display_name": "Python 3",
   "language": "python",
   "name": "python3"
  },
  "language_info": {
   "codemirror_mode": {
    "name": "ipython",
    "version": 3
   },
   "file_extension": ".py",
   "mimetype": "text/x-python",
   "name": "python",
   "nbconvert_exporter": "python",
   "pygments_lexer": "ipython3",
   "version": "3.6.9"
  }
 },
 "nbformat": 4,
 "nbformat_minor": 2
}

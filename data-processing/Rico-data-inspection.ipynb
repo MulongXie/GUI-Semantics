{
 "cells": [
  {
   "cell_type": "code",
   "execution_count": 1,
   "metadata": {},
   "outputs": [],
   "source": [
    "from os.path import join as pjoin\n",
    "from DataInspector import DataInspector\n",
    "import json"
   ]
  },
  {
   "cell_type": "code",
   "execution_count": 2,
   "metadata": {},
   "outputs": [],
   "source": [
    "data = DataInspector(img_directory='/home/ml/Data/rico/combined/', json_directory='/home/ml/Data/rico/semantic/')"
   ]
  },
  {
   "cell_type": "code",
   "execution_count": 3,
   "metadata": {},
   "outputs": [],
   "source": [
    "data.get_all_json_files()"
   ]
  },
  {
   "cell_type": "code",
   "execution_count": 5,
   "metadata": {},
   "outputs": [
    {
     "name": "stdout",
     "output_type": "stream",
     "text": [
      "\n",
      "********** /home/ml/Data/rico/semantic/0.json /home/ml/Data/rico/combined/0.jpg **********\n",
      "{'Web View': 1, 'Advertisement': 1, 'Text Button': 1, 'Date Picker': 1, 'Icon': 1, 'Toolbar': 1, 'Text': 1, 'Image': 1, 'Video': 1, 'Card': 1, 'Checkbox': 1, 'Input': 1}\n",
      "\n",
      "********** /home/ml/Data/rico/semantic/1.json /home/ml/Data/rico/combined/1.jpg **********\n",
      "{'Web View': 1, 'Advertisement': 1, 'Text Button': 1, 'Date Picker': 1, 'Icon': 1, 'Toolbar': 1, 'Text': 1, 'Image': 1, 'Video': 1, 'Card': 1, 'Checkbox': 1, 'Input': 1}\n",
      "\n",
      "********** /home/ml/Data/rico/semantic/2.json /home/ml/Data/rico/combined/2.jpg **********\n",
      "{'Web View': 1, 'Advertisement': 1, 'Text Button': 1, 'Date Picker': 1, 'Icon': 1, 'Toolbar': 1, 'Text': 1, 'Image': 1, 'Video': 1, 'Card': 1, 'Checkbox': 1, 'Input': 1}\n",
      "\n",
      "********** /home/ml/Data/rico/semantic/3.json /home/ml/Data/rico/combined/3.jpg **********\n",
      "{'Web View': 1, 'Advertisement': 1, 'Text Button': 1, 'Date Picker': 1, 'Icon': 1, 'Toolbar': 1, 'Text': 1, 'Image': 1, 'Video': 1, 'Card': 1, 'Checkbox': 1, 'Input': 1}\n",
      "\n",
      "********** /home/ml/Data/rico/semantic/4.json /home/ml/Data/rico/combined/4.jpg **********\n",
      "{'Web View': 1, 'Advertisement': 1, 'Text Button': 1, 'Date Picker': 1, 'Icon': 1, 'Toolbar': 1, 'Text': 1, 'Image': 1, 'Video': 1, 'Card': 1, 'Checkbox': 1, 'Input': 1}\n",
      "\n",
      "********** /home/ml/Data/rico/semantic/5.json /home/ml/Data/rico/combined/5.jpg **********\n",
      "{'Web View': 1, 'Advertisement': 1, 'Text Button': 1, 'Date Picker': 1, 'Icon': 1, 'Toolbar': 1, 'Text': 1, 'Image': 1, 'Video': 1, 'Card': 1, 'Checkbox': 1, 'Input': 1}\n",
      "\n",
      "********** /home/ml/Data/rico/semantic/6.json /home/ml/Data/rico/combined/6.jpg **********\n",
      "{'Web View': 1, 'Advertisement': 1, 'Text Button': 1, 'Date Picker': 1, 'Icon': 1, 'Toolbar': 1, 'Text': 1, 'Image': 1, 'Video': 1, 'Card': 1, 'Checkbox': 1, 'Input': 1}\n",
      "\n",
      "********** /home/ml/Data/rico/semantic/7.json /home/ml/Data/rico/combined/7.jpg **********\n",
      "{'Web View': 1, 'Advertisement': 1, 'Text Button': 1, 'Date Picker': 1, 'Icon': 1, 'Toolbar': 1, 'Text': 1, 'Image': 1, 'Video': 1, 'Card': 1, 'Checkbox': 1, 'Input': 1}\n",
      "\n",
      "********** /home/ml/Data/rico/semantic/8.json /home/ml/Data/rico/combined/8.jpg **********\n",
      "{'Web View': 1, 'Advertisement': 1, 'Text Button': 1, 'Date Picker': 1, 'Icon': 1, 'Toolbar': 1, 'Text': 1, 'Image': 1, 'Video': 1, 'Card': 1, 'Checkbox': 1, 'Input': 1}\n",
      "\n",
      "********** /home/ml/Data/rico/semantic/9.json /home/ml/Data/rico/combined/9.jpg **********\n",
      "{'Web View': 1, 'Advertisement': 1, 'Text Button': 1, 'Date Picker': 1, 'Icon': 1, 'Toolbar': 1, 'Text': 1, 'Image': 1, 'Video': 1, 'Card': 1, 'Checkbox': 1, 'Input': 1}\n",
      "\n",
      "********** /home/ml/Data/rico/semantic/10.json /home/ml/Data/rico/combined/10.jpg **********\n",
      "{'Web View': 1, 'Advertisement': 1, 'Text Button': 1, 'Date Picker': 1, 'Icon': 1, 'Toolbar': 1, 'Text': 1, 'Image': 1, 'Video': 1, 'Card': 1, 'Checkbox': 1, 'Input': 1}\n"
     ]
    }
   ],
   "source": [
    "start_point = 0\n",
    "end_point = 10\n",
    "\n",
    "for i, jfile in enumerate(data.json_files):\n",
    "    if i < start_point:\n",
    "        continue\n",
    "    if i > end_point:\n",
    "        break\n",
    "    imgfile = data.generate_file_path(source_file=jfile, target_file_type='.jpg')\n",
    "    print('\\n**********', jfile, imgfile, '**********')\n",
    "    data.load_gui_img_and_element(imgfile, jfile, save_element_clips=True, output_compo_dir='/home/ml/Data/rico/component/') "
   ]
  },
  {
   "cell_type": "code",
   "execution_count": null,
   "metadata": {},
   "outputs": [],
   "source": []
  },
  {
   "cell_type": "code",
   "execution_count": 5,
   "metadata": {},
   "outputs": [],
   "source": [
    "import os"
   ]
  },
  {
   "cell_type": "code",
   "execution_count": 6,
   "metadata": {},
   "outputs": [],
   "source": [
    "from glob import glob"
   ]
  },
  {
   "cell_type": "code",
   "execution_count": 8,
   "metadata": {},
   "outputs": [
    {
     "data": {
      "text/plain": [
       "['/home/ml/Data/rico/component/Card',\n",
       " '/home/ml/Data/rico/component/Text Button',\n",
       " '/home/ml/Data/rico/component/Input',\n",
       " '/home/ml/Data/rico/component/Advertisement',\n",
       " '/home/ml/Data/rico/component/Video',\n",
       " '/home/ml/Data/rico/component/Image',\n",
       " '/home/ml/Data/rico/component/Icon',\n",
       " '/home/ml/Data/rico/component/Checkbox',\n",
       " '/home/ml/Data/rico/component/Text',\n",
       " '/home/ml/Data/rico/component/Web View',\n",
       " '/home/ml/Data/rico/component/Toolbar',\n",
       " '/home/ml/Data/rico/component/Date Picker']"
      ]
     },
     "execution_count": 8,
     "metadata": {},
     "output_type": "execute_result"
    }
   ],
   "source": [
    "glob('/home/ml/Data/rico/component/*')"
   ]
  },
  {
   "cell_type": "code",
   "execution_count": null,
   "metadata": {},
   "outputs": [],
   "source": []
  }
 ],
 "metadata": {
  "kernelspec": {
   "display_name": "Python 3",
   "language": "python",
   "name": "python3"
  },
  "language_info": {
   "codemirror_mode": {
    "name": "ipython",
    "version": 3
   },
   "file_extension": ".py",
   "mimetype": "text/x-python",
   "name": "python",
   "nbconvert_exporter": "python",
   "pygments_lexer": "ipython3",
   "version": "3.6.9"
  }
 },
 "nbformat": 4,
 "nbformat_minor": 2
}

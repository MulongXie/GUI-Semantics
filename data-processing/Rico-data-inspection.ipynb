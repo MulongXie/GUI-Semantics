{
 "cells": [
  {
   "cell_type": "code",
   "execution_count": 1,
   "metadata": {},
   "outputs": [],
   "source": [
    "from os.path import join as pjoin\n",
    "from DataInspector import DataInspector\n",
    "import json"
   ]
  },
  {
   "cell_type": "code",
   "execution_count": 2,
   "metadata": {},
   "outputs": [],
   "source": [
    "data = DataInspector(img_directory='/home/ml/Data/rico/combined/', json_directory='/home/ml/Data/rico/semantic/')"
   ]
  },
  {
   "cell_type": "code",
   "execution_count": 3,
   "metadata": {},
   "outputs": [],
   "source": [
    "data.get_all_json_files()"
   ]
  },
  {
   "cell_type": "code",
   "execution_count": null,
   "metadata": {},
   "outputs": [
    {
     "name": "stdout",
     "output_type": "stream",
     "text": [
      "********** /home/ml/Data/rico/semantic/0.json /home/ml/Data/rico/combined/0.jpg **********\n",
      "1 org.apache.cordova.engine.SystemWebView\n",
      "{'bounds': [0, 0, 1440, 2392], 'clickable': True, 'class': 'org.apache.cordova.engine.SystemWebView', 'componentLabel': 'Web View', 'id': 1} \n",
      "\n",
      "********** /home/ml/Data/rico/semantic/1.json /home/ml/Data/rico/combined/1.jpg **********\n",
      "1 org.apache.cordova.engine.SystemWebView\n",
      "{'bounds': [0, 0, 1440, 2214], 'clickable': True, 'class': 'org.apache.cordova.engine.SystemWebView', 'componentLabel': 'Web View', 'id': 1} \n",
      "\n",
      "2 com.google.android.gms.ads.AdView\n",
      "{'class': 'com.google.android.gms.ads.AdView', 'bounds': [1, 2217, 1439, 2392], 'clickable': False, 'componentLabel': 'Advertisement', 'id': 2, 'children-id': [3]} \n",
      "\n",
      "3 com.google.android.gms.ads.internal.webview.n\n",
      "{'class': 'com.google.android.gms.ads.internal.webview.n', 'bounds': [1, 2217, 1439, 2392], 'clickable': False, 'componentLabel': 'Web View', 'id': 3, 'children-id': [4]} \n",
      "\n",
      "4 com.google.android.gms.ads.internal.webview.o\n",
      "{'bounds': [1, 2217, 1439, 2392], 'clickable': True, 'class': 'com.google.android.gms.ads.internal.webview.o', 'componentLabel': 'Web View', 'id': 4} \n",
      "\n",
      "********** /home/ml/Data/rico/semantic/2.json /home/ml/Data/rico/combined/2.jpg **********\n",
      "3 android.support.v7.widget.AppCompatButton\n",
      "{'text': 'Done', 'resource-id': 'android:id/button1', 'clickable': True, 'class': 'android.support.v7.widget.AppCompatButton', 'bounds': [1018, 1857, 1250, 2025], 'componentLabel': 'Text Button', 'textButtonClass': 'finish', 'id': 3} \n",
      "\n",
      "4 android.widget.DatePicker\n",
      "{'class': 'android.widget.DatePicker', 'bounds': [148, 436, 1292, 1843], 'clickable': False, 'componentLabel': 'Date Picker', 'id': 4, 'children-id': [5, 6, 7, 8]} \n",
      "\n",
      "5 android.support.v7.widget.AppCompatTextView\n",
      "{'text': '1990', 'resource-id': 'android:id/date_picker_header_year', 'clickable': True, 'class': 'android.support.v7.widget.AppCompatTextView', 'bounds': [232, 436, 1208, 578], 'componentLabel': 'Text Button', 'id': 5} \n",
      "\n",
      "6 android.support.v7.widget.AppCompatTextView\n",
      "{'text': 'Fri, Jun 15', 'resource-id': 'android:id/date_picker_header_date', 'clickable': True, 'class': 'android.support.v7.widget.AppCompatTextView', 'bounds': [232, 578, 787, 737], 'componentLabel': 'Text Button', 'id': 6} \n",
      "\n",
      "7 android.support.v7.widget.AppCompatImageButton\n",
      "{'iconClass': 'arrow_backward', 'resource-id': 'android:id/prev', 'clickable': True, 'class': 'android.support.v7.widget.AppCompatImageButton', 'bounds': [206, 835, 374, 1003], 'componentLabel': 'Icon', 'id': 7} \n",
      "\n",
      "8 android.support.v7.widget.AppCompatImageButton\n",
      "{'iconClass': 'arrow_forward', 'resource-id': 'android:id/next', 'clickable': True, 'class': 'android.support.v7.widget.AppCompatImageButton', 'bounds': [1066, 835, 1234, 1003], 'componentLabel': 'Icon', 'id': 8} \n",
      "\n",
      "********** /home/ml/Data/rico/semantic/3.json /home/ml/Data/rico/combined/3.jpg **********\n",
      "1 android.support.v7.widget.ActionBarContainer\n",
      "{'resource-id': 'se.perigee.android.seven:id/action_bar_container', 'clickable': False, 'class': 'android.support.v7.widget.ActionBarContainer', 'bounds': [0, 84, 1440, 280], 'componentLabel': 'Toolbar', 'id': 1, 'children-id': [2, 3]} \n",
      "\n",
      "2 android.support.v7.widget.AppCompatTextView\n",
      "{'text': 'Exercise 10 of 12', 'clickable': False, 'class': 'android.support.v7.widget.AppCompatTextView', 'bounds': [252, 135, 793, 228], 'componentLabel': 'Text', 'id': 2} \n",
      "\n",
      "3 android.support.v7.widget.AppCompatImageButton\n",
      "{'iconClass': 'arrow_backward', 'bounds': [0, 84, 196, 280], 'clickable': True, 'class': 'android.support.v7.widget.AppCompatImageButton', 'componentLabel': 'Icon', 'id': 3} \n",
      "\n",
      "4 android.support.v7.widget.AppCompatTextView\n",
      "{'text': 'Lunges', 'resource-id': 'se.perigee.android.seven:id/text_exercise', 'clickable': False, 'class': 'android.support.v7.widget.AppCompatTextView', 'bounds': [28, 1775, 1412, 1958], 'componentLabel': 'Text', 'id': 4} \n",
      "\n",
      "5 android.support.v7.widget.AppCompatImageView\n",
      "{'resource-id': 'se.perigee.android.seven:id/forward', 'clickable': True, 'class': 'android.support.v7.widget.AppCompatImageView', 'bounds': [1096, 1986, 1440, 2336], 'componentLabel': 'Image', 'id': 5} \n",
      "\n",
      "6 android.support.v7.widget.AppCompatImageView\n",
      "{'resource-id': 'se.perigee.android.seven:id/backward', 'clickable': True, 'class': 'android.support.v7.widget.AppCompatImageView', 'bounds': [0, 1986, 344, 2336], 'componentLabel': 'Image', 'id': 6} \n",
      "\n",
      "7 com.perigee.seven.ui.view.VideoView\n",
      "{'resource-id': 'se.perigee.android.seven:id/video', 'clickable': False, 'class': 'com.perigee.seven.ui.view.VideoView', 'bounds': [0, 349, 1440, 1789], 'componentLabel': 'Video', 'id': 7} \n",
      "\n",
      "********** /home/ml/Data/rico/semantic/4.json /home/ml/Data/rico/combined/4.jpg **********\n",
      "1 android.support.v7.widget.ActionBarContainer\n",
      "{'resource-id': 'se.perigee.android.seven:id/action_bar_container', 'clickable': False, 'class': 'android.support.v7.widget.ActionBarContainer', 'bounds': [0, 84, 1440, 280], 'componentLabel': 'Toolbar', 'id': 1, 'children-id': [2, 3, 4]} \n",
      "\n",
      "2 android.support.v7.widget.AppCompatTextView\n",
      "{'text': 'Well done!', 'clickable': False, 'class': 'android.support.v7.widget.AppCompatTextView', 'bounds': [252, 135, 580, 228], 'componentLabel': 'Text', 'id': 2} \n",
      "\n",
      "3 android.support.v7.widget.AppCompatImageButton\n",
      "{'iconClass': 'arrow_backward', 'bounds': [0, 84, 196, 280], 'clickable': True, 'class': 'android.support.v7.widget.AppCompatImageButton', 'componentLabel': 'Icon', 'id': 3} \n",
      "\n",
      "4 android.support.v7.view.menu.ActionMenuItemView\n",
      "{'iconClass': 'share', 'resource-id': 'se.perigee.android.seven:id/action_share', 'clickable': True, 'class': 'android.support.v7.view.menu.ActionMenuItemView', 'bounds': [1272, 98, 1440, 266], 'componentLabel': 'Icon', 'id': 4} \n",
      "\n",
      "5 android.support.v7.widget.CardView\n",
      "{'class': 'android.support.v7.widget.CardView', 'bounds': [28, 280, 1412, 674], 'clickable': False, 'componentLabel': 'Card', 'id': 5, 'children-id': [6, 7, 8, 9, 10, 11, 12]} \n",
      "\n",
      "6 android.support.v7.widget.AppCompatTextView\n",
      "{'text': 'Workout summary', 'bounds': [66, 280, 783, 356], 'clickable': False, 'class': 'android.support.v7.widget.AppCompatTextView', 'componentLabel': 'Text', 'id': 6} \n",
      "\n",
      "7 android.support.v7.widget.AppCompatImageView\n",
      "{'iconClass': 'emoji', 'resource-id': 'se.perigee.android.seven:id/summary_workout_icon', 'clickable': False, 'class': 'android.support.v7.widget.AppCompatImageView', 'bounds': [235, 384, 333, 510], 'componentLabel': 'Icon', 'id': 7} \n",
      "\n",
      "8 android.support.v7.widget.AppCompatTextView\n",
      "{'text': 'Full Body', 'resource-id': 'se.perigee.android.seven:id/summary_workout_name', 'clickable': False, 'class': 'android.support.v7.widget.AppCompatTextView', 'bounds': [162, 524, 405, 605], 'componentLabel': 'Text', 'id': 8} \n",
      "\n",
      "9 android.support.v7.widget.AppCompatImageView\n",
      "{'bounds': [671, 384, 769, 510], 'clickable': False, 'class': 'android.support.v7.widget.AppCompatImageView', 'componentLabel': 'Image', 'id': 9} \n",
      "\n",
      "10 android.support.v7.widget.AppCompatTextView\n",
      "{'text': '7:53 Minutes', 'resource-id': 'se.perigee.android.seven:id/summary_circuits_time', 'clickable': False, 'class': 'android.support.v7.widget.AppCompatTextView', 'bounds': [546, 524, 894, 605], 'componentLabel': 'Text', 'id': 10} \n",
      "\n",
      "11 android.support.v7.widget.AppCompatImageView\n",
      "{'iconClass': 'refresh', 'bounds': [1107, 384, 1205, 510], 'clickable': False, 'class': 'android.support.v7.widget.AppCompatImageView', 'componentLabel': 'Icon', 'id': 11} \n",
      "\n",
      "12 android.support.v7.widget.AppCompatTextView\n",
      "{'text': '1 circuit', 'resource-id': 'se.perigee.android.seven:id/summary_no_of_circuits', 'clickable': False, 'class': 'android.support.v7.widget.AppCompatTextView', 'bounds': [1049, 524, 1262, 605], 'componentLabel': 'Text', 'id': 12} \n",
      "\n",
      "13 android.support.v7.widget.CardView\n",
      "{'resource-id': 'se.perigee.android.seven:id/achievements_unlocked_card', 'clickable': False, 'class': 'android.support.v7.widget.CardView', 'bounds': [28, 702, 1412, 1416], 'componentLabel': 'Card', 'id': 13, 'children-id': [14, 15, 18]} \n",
      "\n",
      "14 android.support.v7.widget.AppCompatTextView\n",
      "{'text': 'Achievements', 'bounds': [66, 743, 632, 907], 'clickable': False, 'class': 'android.support.v7.widget.AppCompatTextView', 'componentLabel': 'Text', 'id': 14} \n",
      "\n",
      "16 android.support.v7.widget.AppCompatImageView\n",
      "{'resource-id': 'se.perigee.android.seven:id/image', 'clickable': False, 'class': 'android.support.v7.widget.AppCompatImageView', 'bounds': [249, 908, 536, 1195], 'componentLabel': 'Image', 'id': 16} \n",
      "\n"
     ]
    },
    {
     "name": "stdout",
     "output_type": "stream",
     "text": [
      "17 android.support.v7.widget.AppCompatTextView\n",
      "{'text': 'Challenge Accepted', 'resource-id': 'se.perigee.android.seven:id/text', 'clickable': False, 'class': 'android.support.v7.widget.AppCompatTextView', 'bounds': [218, 1195, 568, 1347], 'componentLabel': 'Text', 'id': 17} \n",
      "\n",
      "19 android.support.v7.widget.AppCompatImageView\n",
      "{'resource-id': 'se.perigee.android.seven:id/image', 'clickable': False, 'class': 'android.support.v7.widget.AppCompatImageView', 'bounds': [903, 908, 1190, 1195], 'componentLabel': 'Image', 'id': 19} \n",
      "\n",
      "20 android.support.v7.widget.AppCompatTextView\n",
      "{'text': 'Afternoon Boost', 'resource-id': 'se.perigee.android.seven:id/text', 'clickable': False, 'class': 'android.support.v7.widget.AppCompatTextView', 'bounds': [872, 1195, 1222, 1347], 'componentLabel': 'Text', 'id': 20} \n",
      "\n",
      "21 android.support.v7.widget.CardView\n",
      "{'class': 'android.support.v7.widget.CardView', 'bounds': [28, 1444, 1412, 2110], 'clickable': False, 'componentLabel': 'Card', 'id': 21, 'children-id': [22, 23, 24]} \n",
      "\n",
      "22 android.support.v7.widget.AppCompatTextView\n",
      "{'text': 'Active Calories', 'resource-id': 'se.perigee.android.seven:id/calories_title', 'clickable': False, 'class': 'android.support.v7.widget.AppCompatTextView', 'bounds': [66, 1485, 659, 1649], 'componentLabel': 'Text', 'id': 22} \n",
      "\n",
      "23 android.support.v7.widget.AppCompatImageView\n",
      "{'bounds': [371, 1790, 480, 1899], 'clickable': False, 'class': 'android.support.v7.widget.AppCompatImageView', 'componentLabel': 'Image', 'id': 23} \n",
      "\n",
      "24 android.support.v7.widget.AppCompatTextView\n",
      "{'text': 'Enter your body details to track calories.', 'bounds': [508, 1733, 1068, 1956], 'clickable': False, 'class': 'android.support.v7.widget.AppCompatTextView', 'componentLabel': 'Text', 'id': 24} \n",
      "\n",
      "25 android.support.v7.widget.CardView\n",
      "{'resource-id': 'se.perigee.android.seven:id/remove_ads_card', 'clickable': False, 'class': 'android.support.v7.widget.CardView', 'bounds': [28, 2138, 1412, 2392], 'componentLabel': 'Card', 'id': 25, 'children-id': [26]} \n",
      "\n",
      "26 android.support.v7.widget.AppCompatTextView\n",
      "{'text': 'Seen all the ads?', 'bounds': [66, 2179, 729, 2343], 'clickable': False, 'class': 'android.support.v7.widget.AppCompatTextView', 'componentLabel': 'Text', 'id': 26} \n",
      "\n",
      "********** /home/ml/Data/rico/semantic/5.json /home/ml/Data/rico/combined/5.jpg **********\n",
      "1 android.support.v7.widget.ActionBarContainer\n",
      "{'resource-id': 'se.perigee.android.seven:id/action_bar_container', 'clickable': False, 'class': 'android.support.v7.widget.ActionBarContainer', 'bounds': [0, 84, 1440, 280], 'componentLabel': 'Toolbar', 'id': 1, 'children-id': [2, 3, 4]} \n",
      "\n",
      "********** /home/ml/Data/rico/semantic/6.json /home/ml/Data/rico/combined/6.jpg **********\n",
      "1 android.support.v7.widget.ActionBarContainer\n",
      "{'resource-id': 'se.perigee.android.seven:id/action_bar_container', 'clickable': False, 'class': 'android.support.v7.widget.ActionBarContainer', 'bounds': [0, 84, 1440, 280], 'componentLabel': 'Toolbar', 'id': 1, 'children-id': [2, 3, 4]} \n",
      "\n",
      "2 android.support.v7.widget.AppCompatTextView\n",
      "{'text': 'Workout', 'clickable': False, 'class': 'android.support.v7.widget.AppCompatTextView', 'bounds': [56, 135, 321, 228], 'componentLabel': 'Text', 'id': 2} \n",
      "\n",
      "3 android.support.v7.view.menu.ActionMenuItemView\n",
      "{'iconClass': 'info', 'resource-id': 'se.perigee.android.seven:id/action_workout_info', 'clickable': True, 'class': 'android.support.v7.view.menu.ActionMenuItemView', 'bounds': [1132, 98, 1300, 266], 'componentLabel': 'Icon', 'id': 3} \n",
      "\n",
      "4 android.support.v7.widget.ActionMenuPresenter$d\n",
      "{'iconClass': 'more', 'bounds': [1300, 98, 1440, 266], 'clickable': True, 'class': 'android.support.v7.widget.ActionMenuPresenter$d', 'componentLabel': 'Icon', 'id': 4} \n",
      "\n",
      "5 android.support.v7.widget.AppCompatImageView\n",
      "{'resource-id': 'se.perigee.android.seven:id/bb_bottom_bar_shadow', 'clickable': False, 'class': 'android.support.v7.widget.AppCompatImageView', 'bounds': [0, 2182, 1440, 2196], 'componentLabel': 'Image', 'id': 5} \n",
      "\n",
      "7 android.support.v7.widget.AppCompatImageView\n",
      "{'resource-id': 'se.perigee.android.seven:id/bb_bottom_bar_icon', 'clickable': False, 'class': 'android.support.v7.widget.AppCompatImageView', 'bounds': [142, 2196, 226, 2301], 'componentLabel': 'Image', 'id': 7} \n",
      "\n",
      "8 android.support.v7.widget.AppCompatTextView\n",
      "{'text': 'Workout', 'resource-id': 'se.perigee.android.seven:id/bb_bottom_bar_title', 'clickable': False, 'class': 'android.support.v7.widget.AppCompatTextView', 'bounds': [80, 2301, 289, 2392], 'componentLabel': 'Text', 'id': 8} \n",
      "\n",
      "9 android.support.v7.widget.AppCompatImageView\n",
      "{'iconClass': 'book', 'resource-id': 'se.perigee.android.seven:id/bb_bottom_bar_icon', 'clickable': False, 'class': 'android.support.v7.widget.AppCompatImageView', 'bounds': [499, 2196, 583, 2308], 'componentLabel': 'Icon', 'id': 9} \n",
      "\n",
      "10 android.support.v7.widget.AppCompatTextView\n",
      "{'text': 'Learn', 'resource-id': 'se.perigee.android.seven:id/bb_bottom_bar_title', 'clickable': False, 'class': 'android.support.v7.widget.AppCompatTextView', 'bounds': [481, 2314, 601, 2386], 'componentLabel': 'Text', 'id': 10} \n",
      "\n",
      "11 android.support.v7.widget.AppCompatImageView\n",
      "{'resource-id': 'se.perigee.android.seven:id/bb_bottom_bar_icon', 'clickable': False, 'class': 'android.support.v7.widget.AppCompatImageView', 'bounds': [856, 2196, 940, 2308], 'componentLabel': 'Image', 'id': 11} \n",
      "\n",
      "12 android.support.v7.widget.AppCompatTextView\n",
      "{'text': 'Achievements', 'resource-id': 'se.perigee.android.seven:id/bb_bottom_bar_title', 'clickable': False, 'class': 'android.support.v7.widget.AppCompatTextView', 'bounds': [746, 2314, 1051, 2386], 'componentLabel': 'Text', 'id': 12} \n",
      "\n",
      "13 android.support.v7.widget.AppCompatImageView\n",
      "{'resource-id': 'se.perigee.android.seven:id/bb_bottom_bar_icon', 'clickable': False, 'class': 'android.support.v7.widget.AppCompatImageView', 'bounds': [1213, 2196, 1297, 2308], 'componentLabel': 'Image', 'id': 13} \n",
      "\n",
      "14 android.support.v7.widget.AppCompatTextView\n",
      "{'text': 'Track', 'resource-id': 'se.perigee.android.seven:id/bb_bottom_bar_title', 'clickable': False, 'class': 'android.support.v7.widget.AppCompatTextView', 'bounds': [1197, 2314, 1313, 2386], 'componentLabel': 'Text', 'id': 14} \n",
      "\n",
      "15 android.support.v7.widget.AppCompatImageView\n",
      "{'resource-id': 'se.perigee.android.seven:id/image', 'clickable': False, 'class': 'android.support.v7.widget.AppCompatImageView', 'bounds': [56, 1585, 182, 1676], 'componentLabel': 'Image', 'id': 15} \n",
      "\n"
     ]
    }
   ],
   "source": [
    "start_point = 0\n",
    "end_point = 10000\n",
    "\n",
    "for i, jfile in enumerate(data.json_files):\n",
    "    if i < start_point:\n",
    "        continue\n",
    "    if i > end_point:\n",
    "        break\n",
    "    imgfile = data.generate_file_path(source_file=jfile, target_file_type='.jpg')\n",
    "    print('**********', jfile, imgfile, '**********')\n",
    "    data.load_gui_img_and_element(imgfile, jfile, save_element_clips=True, output_compo_dir='/home/ml/Data/rico/component/') "
   ]
  },
  {
   "cell_type": "code",
   "execution_count": null,
   "metadata": {},
   "outputs": [],
   "source": []
  },
  {
   "cell_type": "code",
   "execution_count": 5,
   "metadata": {},
   "outputs": [
    {
     "data": {
      "text/plain": [
       "[{'bounds': [0, 0, 1440, 2392],\n",
       "  'clickable': True,\n",
       "  'class': 'org.apache.cordova.engine.SystemWebView',\n",
       "  'componentLabel': 'Web View',\n",
       "  'id': 1}]"
      ]
     },
     "execution_count": 5,
     "metadata": {},
     "output_type": "execute_result"
    }
   ],
   "source": [
    "data.guis[0].elements"
   ]
  },
  {
   "cell_type": "code",
   "execution_count": 7,
   "metadata": {},
   "outputs": [],
   "source": [
    "compo_dir = '/home/ml/Data/rico/component/'"
   ]
  },
  {
   "cell_type": "code",
   "execution_count": 8,
   "metadata": {},
   "outputs": [],
   "source": [
    "import os\n",
    "from os.path import join as pjoin"
   ]
  },
  {
   "cell_type": "code",
   "execution_count": 11,
   "metadata": {},
   "outputs": [
    {
     "name": "stdout",
     "output_type": "stream",
     "text": [
      "/home/ml/Data/rico/component/Web View False\n"
     ]
    }
   ],
   "source": [
    "for ele in data.guis[0].elements:\n",
    "    compo_cls_dir = pjoin(compo_dir, ele['componentLabel'])\n",
    "    print(compo_cls_dir, os.path.exists(compo_cls_dir))\n",
    "    if not os.path.exists(compo_cls_dir):\n",
    "        os.makedirs(compo_cls_dir, exist_ok=True)"
   ]
  },
  {
   "cell_type": "code",
   "execution_count": null,
   "metadata": {},
   "outputs": [],
   "source": []
  }
 ],
 "metadata": {
  "kernelspec": {
   "display_name": "Python 3",
   "language": "python",
   "name": "python3"
  },
  "language_info": {
   "codemirror_mode": {
    "name": "ipython",
    "version": 3
   },
   "file_extension": ".py",
   "mimetype": "text/x-python",
   "name": "python",
   "nbconvert_exporter": "python",
   "pygments_lexer": "ipython3",
   "version": "3.6.9"
  }
 },
 "nbformat": 4,
 "nbformat_minor": 2
}

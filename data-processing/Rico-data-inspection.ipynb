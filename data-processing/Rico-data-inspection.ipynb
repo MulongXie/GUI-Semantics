{
 "cells": [
  {
   "cell_type": "code",
   "execution_count": 1,
   "metadata": {},
   "outputs": [],
   "source": [
    "from os.path import join as pjoin\n",
    "from DataInspector import DataInspector"
   ]
  },
  {
   "cell_type": "code",
   "execution_count": 2,
   "metadata": {},
   "outputs": [],
   "source": [
    "data = DataInspector()"
   ]
  },
  {
   "cell_type": "code",
   "execution_count": 3,
   "metadata": {},
   "outputs": [],
   "source": [
    "data.get_json_files()"
   ]
  },
  {
   "cell_type": "code",
   "execution_count": 4,
   "metadata": {},
   "outputs": [
    {
     "name": "stdout",
     "output_type": "stream",
     "text": [
      "E:\\Mulong\\Datasets\\gui\\rico\\combined\\all\\0.jpg\n"
     ]
    }
   ],
   "source": [
    "for jfile in data.json_files:\n",
    "    imgfile = data.get_another_file(jfile)\n",
    "    print(imgfile)\n",
    "    \n",
    "    gui = data.load_gui(imgfile , jfile)\n",
    "    break"
   ]
  },
  {
   "cell_type": "code",
   "execution_count": 5,
   "metadata": {},
   "outputs": [],
   "source": [
    "gui.extract_elements_from_vh()"
   ]
  },
  {
   "cell_type": "code",
   "execution_count": null,
   "metadata": {},
   "outputs": [
    {
     "name": "stdout",
     "output_type": "stream",
     "text": [
      "{'adapter-view': False, 'enabled': True, 'long-clickable': False, 'children_id': [1, 20], 'scrollable-vertical': False, 'rel-bounds': [0, 0, 1440, 2560], 'visible-to-user': True, 'id': 0, 'pointer': '6348425', 'scrollable-horizontal': False, 'class': 'com.android.internal.policy.PhoneWindow$DecorView', 'draw': True, 'selected': False, 'pressed': 'not_pressed', 'abs-pos': True, 'visibility': 'visible', 'bounds': [0, 0, 1440, 2560], 'clickable': False, 'focused': False, 'focusable': False, 'content-desc': [None]} \n",
      "\n",
      "{'adapter-view': False, 'enabled': True, 'long-clickable': False, 'children_id': [2, 3], 'scrollable-vertical': False, 'rel-bounds': [0, 0, 1440, 2392], 'visible-to-user': True, 'id': 1, 'pointer': 'e3db9fa', 'scrollable-horizontal': False, 'class': 'android.widget.LinearLayout', 'draw': True, 'selected': False, 'pressed': 'not_pressed', 'abs-pos': True, 'visibility': 'visible', 'bounds': [0, 0, 1440, 2392], 'clickable': False, 'focused': False, 'focusable': False, 'content-desc': [None]} \n",
      "\n",
      "{'adapter-view': False, 'selected': False, 'long-clickable': False, 'children_id': [4], 'enabled': True, 'visibility': 'visible', 'rel-bounds': [0, 0, 1440, 2392], 'visible-to-user': True, 'id': 3, 'scrollable-vertical': False, 'pointer': '141c208', 'scrollable-horizontal': False, 'resource-id': 'android:id/content', 'draw': True, 'class': 'android.widget.FrameLayout', 'pressed': 'not_pressed', 'abs-pos': True, 'package': 'android', 'bounds': [0, 0, 1440, 2392], 'clickable': False, 'focused': False, 'focusable': False, 'content-desc': [None]} \n",
      "\n",
      "{'adapter-view': False, 'enabled': True, 'long-clickable': False, 'children_id': [5, 7], 'scrollable-vertical': False, 'rel-bounds': [0, 0, 1440, 2392], 'visible-to-user': True, 'id': 4, 'pointer': 'c4e3da1', 'scrollable-horizontal': False, 'class': 'android.widget.FrameLayout', 'draw': True, 'selected': False, 'pressed': 'not_pressed', 'abs-pos': True, 'visibility': 'visible', 'bounds': [0, 0, 1440, 2392], 'clickable': False, 'focused': False, 'focusable': False, 'content-desc': [None]} \n",
      "\n"
     ]
    }
   ],
   "source": [
    "gui.visualize_elements()"
   ]
  },
  {
   "cell_type": "code",
   "execution_count": null,
   "metadata": {},
   "outputs": [],
   "source": []
  }
 ],
 "metadata": {
  "kernelspec": {
   "display_name": "Python 3",
   "language": "python",
   "name": "python3"
  },
  "language_info": {
   "codemirror_mode": {
    "name": "ipython",
    "version": 3
   },
   "file_extension": ".py",
   "mimetype": "text/x-python",
   "name": "python",
   "nbconvert_exporter": "python",
   "pygments_lexer": "ipython3",
   "version": "3.5.6"
  }
 },
 "nbformat": 4,
 "nbformat_minor": 2
}

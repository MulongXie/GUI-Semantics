{
 "cells": [
  {
   "cell_type": "code",
   "execution_count": 1,
   "metadata": {},
   "outputs": [],
   "source": [
    "from os.path import join as pjoin\n",
    "from DataInspector import DataInspector"
   ]
  },
  {
   "cell_type": "code",
   "execution_count": 2,
   "metadata": {},
   "outputs": [],
   "source": [
    "data = DataInspector()"
   ]
  },
  {
   "cell_type": "code",
   "execution_count": 3,
   "metadata": {},
   "outputs": [],
   "source": [
    "data.get_json_files()"
   ]
  },
  {
   "cell_type": "code",
   "execution_count": null,
   "metadata": {},
   "outputs": [
    {
     "name": "stdout",
     "output_type": "stream",
     "text": [
      "*********** E:\\Mulong\\Datasets\\gui\\rico\\combined\\all\\0.json\n",
      "0 com.android.internal.policy.PhoneWindow$DecorView\n",
      "{'draw': True, 'content-desc': [None], 'focusable': False, 'scrollable-vertical': False, 'adapter-view': False, 'class': 'com.android.internal.policy.PhoneWindow$DecorView', 'pressed': 'not_pressed', 'scrollable-horizontal': False, 'focused': False, 'id': 0, 'enabled': True, 'children_id': [1, 16], 'long-clickable': False, 'bounds': [0, 0, 1440, 2560], 'visible-to-user': True, 'clickable': False, 'rel-bounds': [0, 0, 1440, 2560], 'abs-pos': True, 'visibility': 'visible', 'selected': False, 'pointer': '6348425'} \n",
      "\n",
      "1 android.widget.LinearLayout\n",
      "{'draw': True, 'content-desc': [None], 'focusable': False, 'scrollable-vertical': False, 'adapter-view': False, 'class': 'android.widget.LinearLayout', 'pressed': 'not_pressed', 'scrollable-horizontal': False, 'focused': False, 'id': 1, 'enabled': True, 'children_id': [2, 3], 'long-clickable': False, 'bounds': [0, 0, 1440, 2392], 'visible-to-user': True, 'clickable': False, 'rel-bounds': [0, 0, 1440, 2392], 'abs-pos': True, 'visibility': 'visible', 'selected': False, 'pointer': 'e3db9fa'} \n",
      "\n",
      "3 android.widget.FrameLayout\n",
      "{'draw': True, 'content-desc': [None], 'focusable': False, 'scrollable-vertical': False, 'adapter-view': False, 'class': 'android.widget.FrameLayout', 'resource-id': 'android:id/content', 'pressed': 'not_pressed', 'scrollable-horizontal': False, 'long-clickable': False, 'focused': False, 'id': 3, 'enabled': True, 'children_id': [4], 'bounds': [0, 0, 1440, 2392], 'visible-to-user': True, 'clickable': False, 'rel-bounds': [0, 0, 1440, 2392], 'abs-pos': True, 'pointer': '141c208', 'visibility': 'visible', 'selected': False, 'package': 'android'} \n",
      "\n",
      "4 android.widget.FrameLayout\n",
      "{'draw': True, 'content-desc': [None], 'focusable': False, 'scrollable-vertical': False, 'adapter-view': False, 'class': 'android.widget.FrameLayout', 'pressed': 'not_pressed', 'scrollable-horizontal': False, 'focused': False, 'id': 4, 'enabled': True, 'children_id': [5, 7], 'long-clickable': False, 'bounds': [0, 0, 1440, 2392], 'visible-to-user': True, 'clickable': False, 'rel-bounds': [0, 0, 1440, 2392], 'abs-pos': True, 'visibility': 'visible', 'selected': False, 'pointer': 'c4e3da1'} \n",
      "\n",
      "5 android.widget.FrameLayout\n",
      "{'draw': True, 'content-desc': [None], 'focusable': False, 'scrollable-vertical': False, 'adapter-view': False, 'class': 'android.widget.FrameLayout', 'resource-id': 'com.brc.PeriodTrackerDiary:id/webViewContainer', 'pressed': 'not_pressed', 'scrollable-horizontal': False, 'long-clickable': False, 'focused': False, 'id': 5, 'enabled': True, 'children_id': [6], 'bounds': [0, 0, 1440, 2392], 'visible-to-user': True, 'clickable': False, 'rel-bounds': [0, 0, 1440, 2392], 'abs-pos': True, 'pointer': 'f9d7bc6', 'visibility': 'visible', 'selected': False, 'package': 'com.brc.PeriodTrackerDiary'} \n",
      "\n",
      "6 org.apache.cordova.engine.SystemWebView\n",
      "{'selected': False, 'draw': False, 'visible-to-user': True, 'content-desc': [None], 'focusable': True, 'scrollable-vertical': False, 'bounds': [0, 0, 1440, 2392], 'adapter-view': False, 'clickable': True, 'rel-bounds': [0, 0, 1440, 2392], 'abs-pos': True, 'id': 6, 'visibility': 'visible', 'pressed': 'not_pressed', 'class': 'org.apache.cordova.engine.SystemWebView', 'scrollable-horizontal': True, 'long-clickable': False, 'focused': True, 'pointer': '2e83787', 'enabled': True} \n",
      "\n",
      "7 android.widget.FrameLayout\n",
      "{'draw': True, 'content-desc': [None], 'focusable': False, 'scrollable-vertical': False, 'adapter-view': False, 'class': 'android.widget.FrameLayout', 'resource-id': 'com.brc.PeriodTrackerDiary:id/ads', 'pressed': 'not_pressed', 'scrollable-horizontal': False, 'long-clickable': False, 'focused': False, 'id': 7, 'enabled': True, 'children_id': [8, 9], 'bounds': [0, 2214, 1440, 2392], 'visible-to-user': False, 'clickable': False, 'rel-bounds': [0, 2214, 1440, 2392], 'abs-pos': True, 'pointer': '734f6b4', 'visibility': 'gone', 'selected': False, 'package': 'com.brc.PeriodTrackerDiary'} \n",
      "\n",
      "8 android.view.View\n",
      "{'selected': False, 'draw': False, 'visible-to-user': False, 'content-desc': [None], 'focusable': False, 'scrollable-vertical': False, 'bounds': [0, 2214, 1440, 2217], 'adapter-view': False, 'clickable': False, 'rel-bounds': [0, 0, 1440, 3], 'abs-pos': True, 'id': 8, 'visibility': 'visible', 'pressed': 'not_pressed', 'class': 'android.view.View', 'scrollable-horizontal': False, 'long-clickable': False, 'focused': False, 'pointer': '7f012dd', 'enabled': True} \n",
      "\n",
      "9 com.digitalchemy.foundation.android.advertising.c.a\n",
      "{'draw': True, 'content-desc': [None], 'focusable': False, 'scrollable-vertical': False, 'adapter-view': False, 'class': 'com.digitalchemy.foundation.android.advertising.c.a', 'pressed': 'not_pressed', 'scrollable-horizontal': False, 'focused': False, 'id': 9, 'enabled': True, 'children_id': [10, 12, 13, 14, 15], 'long-clickable': False, 'bounds': [0, 2217, 1440, 2392], 'visible-to-user': False, 'clickable': False, 'rel-bounds': [0, 3, 1440, 178], 'abs-pos': True, 'visibility': 'visible', 'selected': False, 'pointer': 'ae58e52'} \n",
      "\n",
      "10 com.google.android.gms.ads.AdView\n",
      "{'draw': True, 'content-desc': [None], 'focusable': False, 'scrollable-vertical': False, 'adapter-view': False, 'class': 'com.google.android.gms.ads.AdView', 'pressed': 'not_pressed', 'scrollable-horizontal': False, 'focused': False, 'id': 10, 'enabled': True, 'children_id': [11], 'long-clickable': False, 'bounds': [1, 2217, 1439, 2392], 'visible-to-user': False, 'clickable': False, 'rel-bounds': [1, 0, 1439, 175], 'abs-pos': True, 'visibility': 'visible', 'selected': False, 'pointer': '878cfda'} \n",
      "\n",
      "15 com.google.android.gms.ads.AdView\n",
      "{'selected': False, 'draw': True, 'visible-to-user': False, 'content-desc': [None], 'focusable': False, 'scrollable-vertical': False, 'bounds': [1, 2217, 1439, 2392], 'adapter-view': False, 'clickable': False, 'rel-bounds': [1, 0, 1439, 175], 'abs-pos': True, 'id': 15, 'visibility': 'invisible', 'pressed': 'not_pressed', 'class': 'com.google.android.gms.ads.AdView', 'scrollable-horizontal': False, 'long-clickable': False, 'focused': False, 'pointer': 'f47c095', 'enabled': True} \n",
      "\n",
      "16 android.view.View\n",
      "{'draw': False, 'content-desc': [None], 'focusable': False, 'scrollable-vertical': False, 'adapter-view': False, 'class': 'android.view.View', 'resource-id': 'android:id/navigationBarBackground', 'pressed': 'not_pressed', 'scrollable-horizontal': False, 'long-clickable': False, 'focused': False, 'id': 16, 'enabled': True, 'bounds': [0, 2392, 1440, 2560], 'visible-to-user': True, 'clickable': False, 'rel-bounds': [0, 2392, 1440, 2560], 'abs-pos': True, 'pointer': '67895aa', 'visibility': 'visible', 'selected': False, 'package': 'android'} \n",
      "\n",
      "*********** E:\\Mulong\\Datasets\\gui\\rico\\combined\\all\\1.json\n",
      "0 com.android.internal.policy.PhoneWindow$DecorView\n",
      "{'draw': True, 'content-desc': [None], 'focusable': False, 'scrollable-vertical': False, 'adapter-view': False, 'class': 'com.android.internal.policy.PhoneWindow$DecorView', 'pressed': 'not_pressed', 'scrollable-horizontal': False, 'focused': False, 'id': 0, 'enabled': True, 'children_id': [1, 20], 'long-clickable': False, 'bounds': [0, 0, 1440, 2560], 'visible-to-user': True, 'clickable': False, 'rel-bounds': [0, 0, 1440, 2560], 'abs-pos': True, 'visibility': 'visible', 'selected': False, 'pointer': '6348425'} \n",
      "\n",
      "1 android.widget.LinearLayout\n",
      "{'draw': True, 'content-desc': [None], 'focusable': False, 'scrollable-vertical': False, 'adapter-view': False, 'class': 'android.widget.LinearLayout', 'pressed': 'not_pressed', 'scrollable-horizontal': False, 'focused': False, 'id': 1, 'enabled': True, 'children_id': [2, 3], 'long-clickable': False, 'bounds': [0, 0, 1440, 2392], 'visible-to-user': True, 'clickable': False, 'rel-bounds': [0, 0, 1440, 2392], 'abs-pos': True, 'visibility': 'visible', 'selected': False, 'pointer': 'e3db9fa'} \n",
      "\n",
      "3 android.widget.FrameLayout\n",
      "{'draw': True, 'content-desc': [None], 'focusable': False, 'scrollable-vertical': False, 'adapter-view': False, 'class': 'android.widget.FrameLayout', 'resource-id': 'android:id/content', 'pressed': 'not_pressed', 'scrollable-horizontal': False, 'long-clickable': False, 'focused': False, 'id': 3, 'enabled': True, 'children_id': [4], 'bounds': [0, 0, 1440, 2392], 'visible-to-user': True, 'clickable': False, 'rel-bounds': [0, 0, 1440, 2392], 'abs-pos': True, 'pointer': '141c208', 'visibility': 'visible', 'selected': False, 'package': 'android'} \n",
      "\n"
     ]
    },
    {
     "name": "stdout",
     "output_type": "stream",
     "text": [
      "4 android.widget.FrameLayout\n",
      "{'draw': True, 'content-desc': [None], 'focusable': False, 'scrollable-vertical': False, 'adapter-view': False, 'class': 'android.widget.FrameLayout', 'pressed': 'not_pressed', 'scrollable-horizontal': False, 'focused': False, 'id': 4, 'enabled': True, 'children_id': [5, 7], 'long-clickable': False, 'bounds': [0, 0, 1440, 2392], 'visible-to-user': True, 'clickable': False, 'rel-bounds': [0, 0, 1440, 2392], 'abs-pos': True, 'visibility': 'visible', 'selected': False, 'pointer': 'c4e3da1'} \n",
      "\n",
      "5 android.widget.FrameLayout\n",
      "{'draw': True, 'content-desc': [None], 'focusable': False, 'scrollable-vertical': False, 'adapter-view': False, 'class': 'android.widget.FrameLayout', 'resource-id': 'com.brc.PeriodTrackerDiary:id/webViewContainer', 'pressed': 'not_pressed', 'scrollable-horizontal': False, 'long-clickable': False, 'focused': False, 'id': 5, 'enabled': True, 'children_id': [6], 'bounds': [0, 0, 1440, 2392], 'visible-to-user': True, 'clickable': False, 'rel-bounds': [0, 0, 1440, 2392], 'abs-pos': True, 'pointer': 'f9d7bc6', 'visibility': 'visible', 'selected': False, 'package': 'com.brc.PeriodTrackerDiary'} \n",
      "\n",
      "6 org.apache.cordova.engine.SystemWebView\n",
      "{'selected': False, 'draw': False, 'visible-to-user': True, 'content-desc': [None], 'focusable': True, 'scrollable-vertical': False, 'bounds': [0, 0, 1440, 2214], 'adapter-view': False, 'clickable': True, 'rel-bounds': [0, 0, 1440, 2214], 'abs-pos': True, 'id': 6, 'visibility': 'visible', 'pressed': 'not_pressed', 'class': 'org.apache.cordova.engine.SystemWebView', 'scrollable-horizontal': True, 'long-clickable': False, 'focused': True, 'pointer': '2e83787', 'enabled': True} \n",
      "\n",
      "7 android.widget.FrameLayout\n",
      "{'draw': True, 'content-desc': [None], 'focusable': False, 'scrollable-vertical': False, 'adapter-view': False, 'class': 'android.widget.FrameLayout', 'resource-id': 'com.brc.PeriodTrackerDiary:id/ads', 'pressed': 'not_pressed', 'scrollable-horizontal': False, 'long-clickable': False, 'focused': False, 'id': 7, 'enabled': True, 'children_id': [8, 9], 'bounds': [0, 2214, 1440, 2392], 'visible-to-user': True, 'clickable': False, 'rel-bounds': [0, 2214, 1440, 2392], 'abs-pos': True, 'pointer': '734f6b4', 'visibility': 'visible', 'selected': False, 'package': 'com.brc.PeriodTrackerDiary'} \n",
      "\n",
      "8 android.view.View\n",
      "{'selected': False, 'draw': False, 'visible-to-user': True, 'content-desc': [None], 'focusable': False, 'scrollable-vertical': False, 'bounds': [0, 2214, 1440, 2217], 'adapter-view': False, 'clickable': False, 'rel-bounds': [0, 0, 1440, 3], 'abs-pos': True, 'id': 8, 'visibility': 'visible', 'pressed': 'not_pressed', 'class': 'android.view.View', 'scrollable-horizontal': False, 'long-clickable': False, 'focused': False, 'pointer': '7f012dd', 'enabled': True} \n",
      "\n",
      "9 com.digitalchemy.foundation.android.advertising.c.a\n",
      "{'draw': True, 'content-desc': [None], 'focusable': False, 'scrollable-vertical': False, 'adapter-view': False, 'class': 'com.digitalchemy.foundation.android.advertising.c.a', 'pressed': 'not_pressed', 'scrollable-horizontal': False, 'focused': False, 'id': 9, 'enabled': True, 'children_id': [10, 16, 17, 18, 19], 'long-clickable': False, 'bounds': [0, 2217, 1440, 2392], 'visible-to-user': True, 'clickable': False, 'rel-bounds': [0, 3, 1440, 178], 'abs-pos': True, 'visibility': 'visible', 'selected': False, 'pointer': 'ae58e52'} \n",
      "\n",
      "10 com.google.android.gms.ads.AdView\n",
      "{'draw': True, 'content-desc': [None], 'focusable': False, 'scrollable-vertical': False, 'adapter-view': False, 'class': 'com.google.android.gms.ads.AdView', 'pressed': 'not_pressed', 'scrollable-horizontal': False, 'focused': False, 'id': 10, 'enabled': True, 'children_id': [11], 'long-clickable': False, 'bounds': [1, 2217, 1439, 2392], 'visible-to-user': True, 'clickable': False, 'rel-bounds': [1, 0, 1439, 175], 'abs-pos': True, 'visibility': 'visible', 'selected': False, 'pointer': '878cfda'} \n",
      "\n",
      "11 com.google.android.gms.ads.internal.bp\n",
      "{'draw': True, 'content-desc': [None], 'focusable': False, 'scrollable-vertical': False, 'adapter-view': False, 'class': 'com.google.android.gms.ads.internal.bp', 'pressed': 'not_pressed', 'scrollable-horizontal': False, 'focused': False, 'id': 11, 'enabled': True, 'children_id': [12], 'long-clickable': False, 'bounds': [1, 2217, 1439, 2392], 'visible-to-user': True, 'clickable': False, 'rel-bounds': [0, 0, 1438, 175], 'abs-pos': True, 'visibility': 'visible', 'selected': False, 'pointer': 'b78c585'} \n",
      "\n",
      "12 in\n",
      "{'draw': True, 'content-desc': [None], 'focusable': False, 'scrollable-vertical': False, 'adapter-view': False, 'class': 'in', 'pressed': 'not_pressed', 'scrollable-horizontal': False, 'focused': False, 'id': 12, 'enabled': True, 'children_id': [13], 'long-clickable': False, 'bounds': [1, 2217, 1439, 2392], 'visible-to-user': True, 'clickable': False, 'rel-bounds': [0, 0, 1438, 175], 'abs-pos': True, 'visibility': 'visible', 'selected': False, 'pointer': '766dd9'} \n",
      "\n"
     ]
    }
   ],
   "source": [
    "for jfile in data.json_files:\n",
    "    print('***********', jfile)\n",
    "    imgfile = data.get_another_file(jfile)\n",
    "    \n",
    "    gui = data.load_gui(imgfile , jfile)\n",
    "    gui.extract_elements_from_vh()\n",
    "    gui.visualize_elements() # press 'q' to exit\n",
    "    # gui.save_element_as_csv()\n",
    "    \n",
    "    # break"
   ]
  },
  {
   "cell_type": "code",
   "execution_count": null,
   "metadata": {},
   "outputs": [],
   "source": []
  }
 ],
 "metadata": {
  "kernelspec": {
   "display_name": "Python 3",
   "language": "python",
   "name": "python3"
  },
  "language_info": {
   "codemirror_mode": {
    "name": "ipython",
    "version": 3
   },
   "file_extension": ".py",
   "mimetype": "text/x-python",
   "name": "python",
   "nbconvert_exporter": "python",
   "pygments_lexer": "ipython3",
   "version": "3.5.6"
  }
 },
 "nbformat": 4,
 "nbformat_minor": 2
}
